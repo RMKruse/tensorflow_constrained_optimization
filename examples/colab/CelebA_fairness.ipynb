{
  "cells": [
    {
      "cell_type": "markdown",
      "metadata": {
        "id": "S8iIuNNucUwF"
      },
      "source": [
        "##### Copyright 2020 The TensorFlow Constrained Optimization Authors. All Rights Reserved.\n",
        "\n",
        "Licensed under the Apache License, Version 2.0 (the \\\"License\\\"); you may not use this file except in compliance with the License. You may obtain a copy of the License at\n",
        "\n",
        "\u003e http://www.apache.org/licenses/LICENSE-2.0\n",
        "\n",
        "Unless required by applicable law or agreed to in writing, software distributed under the License is distributed on an \\\"AS IS\\\" BASIS, WITHOUT WARRANTIES OR CONDITIONS OF ANY KIND, either express or implied. See the License for the specific language governing permissions and limitations under the License."
      ]
    },
    {
      "cell_type": "markdown",
      "metadata": {
        "id": "b2VYQpTttmVN"
      },
      "source": [
        "# TensorFlow Constrained Optimization Example Using CelebA Dataset\n",
        "Building on other [TensorFlow Constrained Optimization (TFCO)](https://github.com/google-research/tensorflow_constrained_optimization/tree/master/README.md) examples, the purpose of this notebook is to further demonstrate how easy it is to create and optimized constrained problems using the TFCO library. In particular, this notebook will:\n",
        "\n",
        "\n",
        "*   Train a simple, *unconstrained* neural network model to detect a person's smile in images using [`tf.keras`](https://www.tensorflow.org/guide/keras) and the large-scale CelebFaces Attributes ([CelebA](http://mmlab.ie.cuhk.edu.hk/projects/CelebA.html)) dataset.\n",
        "*   Evaluate model performance across age group.\n",
        "*   Set up a simple constrained optimization problem to achieve fairer perforamnce across age group.\n",
        "*   Retrain the now *constrained* model and evaluate performance again.\n",
        "\n",
        "Last updated: 15 Sep 2020\n",
        "\n",
        "\n",
        "\n"
      ]
    },
    {
      "cell_type": "markdown",
      "metadata": {
        "id": "JyCbEWt5Zxe2"
      },
      "source": [
        "# Installation\n",
        "This notebook was created in [Colaboratory](https://research.google.com/colaboratory/faq.html), connected to the Python 3 Google Compute Engine backend. If you wish to host this notebook in a different environment, then you should not experience any major issues so long as you include all the required packages listed in the cell below.\n",
        "\n",
        "Also, depending on when you run the cell below, you may receive a warning about the default version of TensorFlow in Colab switching to TensorFlow 2.X soon. You can safely ignore that warning as this notebook was designed to be compatible with TensorFlow 1.X and 2.X."
      ]
    },
    {
      "cell_type": "code",
      "execution_count": null,
      "metadata": {
        "cellView": "both",
        "id": "UTBBdSGaZ8aW"
      },
      "outputs": [],
      "source": [
        "#@title Import Modules\n",
        "!pip install -q tensorflow-datasets tensorflow numpy pandas matplotlib seaborn\n",
        "import os\n",
        "import sys\n",
        "import tempfile\n",
        "import urllib3\n",
        "\n",
        "import tensorflow as tf\n",
        "from tensorflow import keras\n",
        "\n",
        "import tensorflow_datasets as tfds\n",
        "tfds.disable_progress_bar()\n",
        "\n",
        "from matplotlib.ticker import StrMethodFormatter\n",
        "from matplotlib import rcParams\n",
        "import matplotlib.pyplot as plt\n",
        "import seaborn as sns\n",
        "import numpy as np\n",
        "import pandas as pd\n",
        "\n",
        "# Use the GitHub version of TFCO\n",
        "!pip install git+https://github.com/google-research/tensorflow_constrained_optimization\n",
        "import tensorflow_constrained_optimization as tfco"
      ]
    },
    {
      "cell_type": "markdown",
      "metadata": {
        "id": "xSG2HP7goGrj"
      },
      "source": [
        "Though TFCO is compatible with eager and graph execution, this notebook assumes that eager execution is enabled by default. To ensure that nothing breaks, eager execution will be enabled in the cell below."
      ]
    },
    {
      "cell_type": "code",
      "execution_count": null,
      "metadata": {
        "cellView": "both",
        "colab": {
          "height": 52
        },
        "executionInfo": {
          "elapsed": 716,
          "status": "ok",
          "timestamp": 1601412474340,
          "user": {
            "displayName": "Andrew Cotter",
            "photoUrl": "",
            "userId": "01600804956648002768"
          },
          "user_tz": 420
        },
        "id": "W0ZusW1-lBao",
        "outputId": "4c9f0c7e-2958-4ccd-b012-cb63275bca64"
      },
      "outputs": [
        {
          "name": "stdout",
          "output_type": "stream",
          "text": [
            "Eager execution enabled by default.\n",
            "TensorFlow 2.4.0\n"
          ]
        }
      ],
      "source": [
        "#@title Enable Eager Execution\n",
        "if tf.__version__ \u003c \"2.0.0\":\n",
        "  tf.enable_eager_execution()\n",
        "  print(\"Eager execution enabled.\")\n",
        "else:\n",
        "  print(\"Eager execution enabled by default.\")\n",
        "\n",
        "print(\"TensorFlow \" + tf.__version__)"
      ]
    },
    {
      "cell_type": "markdown",
      "metadata": {
        "id": "idY3Uuk3yvty"
      },
      "source": [
        "# CelebA Dataset\n",
        "[CelebA](http://mmlab.ie.cuhk.edu.hk/projects/CelebA.html) is a large-scale face attributes dataset with more than 200,000 celebrity images, each with 40 attribute annotations (such as hair type, fashion accessories, facial features, etc.) and 5 landmark locations (eyes, mouth and nose positions). CelebA is readily made available in TensorFlow thanks to [TensorFlow Datasets(`tfds`)](https://www.tensorflow.org/datasets), which is where and how this notebook will download and extract the dataset.\n",
        "\n",
        "Specifically, in this notebook:\n",
        "*   The \"Smiling\" attribute — which presumably represents a pleased, kind or amused expression in the image with the corners of the mouth turned up and front teeth possibly exposed — will be set as the target variable for the model to predict.\n",
        "*   Images will be resized from 218x178 to 28x28 to reduce the amount of execution time and memory when training.\n",
        "*   Performance will be evaluated across the \"Young\" attribute, which will be dubbed \"age group\" in this notebook.\n",
        "\n",
        "\n"
      ]
    },
    {
      "cell_type": "markdown",
      "metadata": {
        "id": "i93InRhMFu89"
      },
      "source": [
        "### Possible Checksum Error\n",
        "On rare occasions, running the cell below may return a `NonMatchingChecksumError` message. As [reported elsewhere](https://github.com/tensorflow/datasets/issues/943), this error message might be due to an incomplete download. CelebA is rather large and can sometimes fail to download. So this may be a Google Drive issue rather than TFDS.\n",
        "\n",
        "In our experiences, running the cell again at a later point in time will resolve that error and allow you to download the dataset."
      ]
    },
    {
      "cell_type": "code",
      "execution_count": null,
      "metadata": {
        "id": "zCSemFST0b89"
      },
      "outputs": [],
      "source": [
        "celeb_a_builder = tfds.builder(\"celeb_a\")\n",
        "celeb_a_builder.download_and_prepare()"
      ]
    },
    {
      "cell_type": "markdown",
      "metadata": {
        "id": "u5PDLXZb_uIj"
      },
      "source": [
        "## Caveats\n",
        "Before moving forward, there are several considerations to keep in mind in using CelebA:\n",
        "*   Though in principle this notebook could use any dataset of face images, CelebA was chosen because it contains public domain images of public figures, which avoids certain policy and privacy issues of some other public domain datasets.\n",
        "*   All of the attribute annotations in CelebA come operationalized as binary categories. For example, the \"Young\" attribute, which loosely and presumably represents perceived behavior or appearance of young people, is denoted as either present or absent in the image. In other words, the absence of \"Young\" in an image does not always imply that the image features an \"Old\" celebrity.\n",
        "*   CelebA's categorizations do not reflect real human diversity of attributes.\n",
        "*   For the purposes of this notebook, the \"Young\" attribute is dubbed \"age group\", where the presence of the \"Young\" attribute in an image is labeled as a member of the \"young\" age group and the absence of the \"Young\" attribute is labeled as a member of the \"old\" age group. These are assumptions made as this information is not mentioned in the [original paper](http://openaccess.thecvf.com/content_iccv_2015/html/Liu_Deep_Learning_Face_ICCV_2015_paper.html).\n",
        "*   As such, performance in the models trained in this notebook is tied to the ways the attributes have been operationalized and annotated by the authors of CelebA.\n",
        "*   This model should not be used for commerical purposes as that would voilate CelebA's non-commerical research agreement."
      ]
    },
    {
      "cell_type": "markdown",
      "metadata": {
        "id": "Elkiu92cY2bY"
      },
      "source": [
        "# Setting Up Input and Visualization Functions\n",
        "Now that CelebA is loaded in as a `tf.data.Dataset` object, the rest of the input pipeline can now be defined for model training. The subsequent cells will help streamline the input pipeline as well as visualize performance."
      ]
    },
    {
      "cell_type": "code",
      "execution_count": null,
      "metadata": {
        "cellView": "both",
        "id": "SD-H70Je0cTp"
      },
      "outputs": [],
      "source": [
        "#@title Define Image Preprocessing and Filtering Functions\n",
        "\n",
        "ATTR_KEY = \"attributes\"\n",
        "IMAGE_KEY = \"image\"\n",
        "LABEL_KEY = \"Smiling\"\n",
        "GROUP_KEY = \"Young\"\n",
        "IMAGE_SIZE = 28\n",
        "BATCH_SIZE = 1024\n",
        "\n",
        "def preprocessing_function(feat_dict):\n",
        "  # Separate out the image and target variable from the feature dictionary.\n",
        "  image = feat_dict[IMAGE_KEY]\n",
        "  label = feat_dict[ATTR_KEY][LABEL_KEY]\n",
        "  group = feat_dict[ATTR_KEY][GROUP_KEY]\n",
        "\n",
        "  # Resize and normalize image.\n",
        "  image = tf.cast(image, tf.float32)\n",
        "  image = tf.image.resize(image, [IMAGE_SIZE, IMAGE_SIZE])\n",
        "  image /= 255.0\n",
        "\n",
        "  # Cast label and group to float32.\n",
        "  label = tf.cast(label, tf.float32)\n",
        "  group = tf.cast(group, tf.float32)\n",
        "\n",
        "  return image, label, group\n",
        "\n",
        "# These filtering fuctions will be called after the image preprocessing step to\n",
        "# evalute performance with respect to groups.\n",
        "def filter_young_group(image, label, young_group):\n",
        "  return True if tf.math.equal(young_group, 1.0) else False\n",
        "\n",
        "def filter_old_group(image, label, young_group):\n",
        "  return True if tf.math.equal(young_group, 0.0) else False"
      ]
    },
    {
      "cell_type": "code",
      "execution_count": null,
      "metadata": {
        "cellView": "both",
        "id": "Geujt01xzLPR"
      },
      "outputs": [],
      "source": [
        "#@title Define False Positive Rate Calculator\n",
        "def calculate_fpr(results):\n",
        "  # results[] is a list of scalars that represent different metrics. In order,\n",
        "  # it represents the following: loss, accuracy, false positives, true negatives\n",
        "  fp = results[2]\n",
        "  tn = results[3]\n",
        "\n",
        "  fpr = float(fp / (fp + tn))\n",
        "  return fpr"
      ]
    },
    {
      "cell_type": "code",
      "execution_count": null,
      "metadata": {
        "cellView": "both",
        "id": "UOD6iv078BeT"
      },
      "outputs": [],
      "source": [
        "#@title Define Input Function\n",
        "def input_function(split, subgroup_filter, batch_size=100):\n",
        "  # Use tfds.load method to build and load CelebA.\n",
        "  celeb_a_data = celeb_a_builder.as_dataset(split=split)\n",
        "\n",
        "  # Shuffle and batch dataset depending on split.\n",
        "  if split == 'train':\n",
        "    celeb_a_data = celeb_a_data.shuffle(1024).repeat().batch(batch_size)\n",
        "  elif split == 'test':\n",
        "    celeb_a_data = celeb_a_data.batch(batch_size)\n",
        "\n",
        "  # Apply preprocessing transformations.\n",
        "  celeb_a_data = celeb_a_data.map(preprocessing_function)\n",
        "\n",
        "  # When necessary, filter by age group of interest.\n",
        "  if subgroup_filter == 'Young':\n",
        "    celeb_a_data = celeb_a_data.filter(filter_young_group)\n",
        "  elif subgroup_filter == 'Old':\n",
        "    celeb_a_data = celeb_a_data.filter(filter_old_group)\n",
        "\n",
        "  # Return the transformed CelebA set.\n",
        "  return celeb_a_data"
      ]
    },
    {
      "cell_type": "code",
      "execution_count": null,
      "metadata": {
        "cellView": "both",
        "id": "_vroRsWuLCf1"
      },
      "outputs": [],
      "source": [
        "#@title Define Plot Function\n",
        "def plot_results(results, title):\n",
        "  # Set appropriate context for figure aesthetics.\n",
        "  sns.set_context(\"notebook\", font_scale=1.5)\n",
        "\n",
        "  if len(results) == 2:\n",
        "    # Plot bar charts for unconstrained model performance.\n",
        "    values = [value * 100 for value in results] # Converts rate to percentage\n",
        "    group_names = ['Young', 'Old']\n",
        "\n",
        "    plt.figure(figsize=(6, 3))\n",
        "    plt.barh(group_names, values, color=[\"#377eb8\", \"#ff7f00\"])\n",
        "    plt.xlim([0, int(max(values)) + 2])\n",
        "    plt.xlabel('False Positive Rate %')\n",
        "    plt.gca().xaxis.set_major_formatter(StrMethodFormatter('{x:,.1f}'))\n",
        "    plt.title(title)\n",
        "    plt.show()\n",
        "  else:\n",
        "    # Plot bar charts for unconstrained and constrained model performance.\n",
        "    values = [value * 100 for value in results]\n",
        "    df = pd.DataFrame(dict(graph=['Unconstrained', 'Constrained'],\n",
        "                           young=values[::2], old=values[1::2]))\n",
        "    index = np.arange(len(df))\n",
        "    width = 0.4\n",
        "\n",
        "    fig, ax = plt.subplots()\n",
        "    ax.barh(index, df.young, width, color=\"#377eb8\", label='Young')\n",
        "    ax.barh(index + width, df.old, width, color=\"#ff7f00\", label='Old')\n",
        "\n",
        "    plt.xlim([0, int(max(values)) + 2])\n",
        "    plt.xlabel('False Positive Rate %')\n",
        "    ax.set(yticks=index + (width / 2), yticklabels=df.graph)\n",
        "    ax.legend()\n",
        "\n",
        "    plt.gca().xaxis.set_major_formatter(StrMethodFormatter('{x:,.1f}'))\n",
        "    plt.title(title)\n",
        "    plt.show()"
      ]
    },
    {
      "cell_type": "markdown",
      "metadata": {
        "id": "NXO3woTxiCk0"
      },
      "source": [
        "# Build, Train \u0026 Evaluate Unconstrained Model\n",
        "To keep this notebook focused on TFCO, a simple, unconstrained `tf.keras.Sequential` model will be assembled.\n",
        "\n",
        "It is possible that model performance can greatly be improved upon by adding some complexity (e.g., more densely-connected layers, exploring different activiation functions, increasing image size), but that may distract from the goal of demonstrating how easy it is to apply the TFCO library when working with Keras. For that reason, the model will be kept simple — but feel encouraged to explore this space."
      ]
    },
    {
      "cell_type": "code",
      "execution_count": null,
      "metadata": {
        "id": "RNZhN_zU8DRD"
      },
      "outputs": [],
      "source": [
        "NUM_CLASSES = 2\n",
        "\n",
        "# For this notebook, accuracy, false positives (FPs) and true negatives (TNs)\n",
        "# will be used to evaluate performance. With FP and TN, the false positive rate\n",
        "# can be calculated: FP / (FP + TN).\n",
        "#\n",
        "# We use tfco.KerasMetricWrapper not because we're doing anything\n",
        "# TFCO-specific here, but only because it supports the \"from_logits\" option.\n",
        "# When we use KerasMetricWrapper below, on a constrained problem, the usage will\n",
        "# be more involved, but here, the *only* thing that the KerasMetricWrappers are\n",
        "# doing is passing the predictions through a sigmoid before evaluating the\n",
        "# metrics.\n",
        "unconstrained_metrics = [\n",
        "    tfco.KerasMetricWrapper(\n",
        "        tf.keras.metrics.BinaryAccuracy(), from_logits=True, name='accuracy'),\n",
        "    tfco.KerasMetricWrapper(\n",
        "        tf.keras.metrics.FalsePositives(), from_logits=True, name='fp'),\n",
        "    tfco.KerasMetricWrapper(\n",
        "        tf.keras.metrics.TrueNegatives(), from_logits=True, name='tn')\n",
        "]\n",
        "\n",
        "# The model consists of:\n",
        "# 1. An input layer that represents the 28x28x3 image flatten.\n",
        "# 2. A fully connected layer with 64 units activated by a ReLU function.\n",
        "# 3. A single-unit readout layer to output real-scores instead of probabilities.\n",
        "unconstrained_model = keras.Sequential([\n",
        "    keras.layers.Flatten(input_shape=(IMAGE_SIZE, IMAGE_SIZE, 3)),\n",
        "    keras.layers.Dense(64, activation=tf.nn.relu),\n",
        "    keras.layers.Dense(1, activation=None)\n",
        "])\n",
        "\n",
        "# TFCO by default uses hinge loss, and that will also be used in the model.\n",
        "unconstrained_model.compile(\n",
        "    optimizer=tf.keras.optimizers.Adam(),\n",
        "    loss=tf.keras.losses.Hinge(),\n",
        "    metrics=unconstrained_metrics)"
      ]
    },
    {
      "cell_type": "markdown",
      "metadata": {
        "id": "76tZ3vk-tyo9"
      },
      "source": [
        "With the model now defined and the input pipeline in place, the model is ready for training. To cut back on the amount of execution time and memory, the model will be trained by slicing the data into small batches with a small amount of repeated iterations.\n",
        "\n",
        "By the way, running this notebook in TensorFlow \u003c 2.0.0 may result in a deprecation warning for `np.where`. Safely ignore this warning as TensorFlow addresses this in 2.X by using `tf.where` in place of `np.where`."
      ]
    },
    {
      "cell_type": "code",
      "execution_count": null,
      "metadata": {
        "colab": {
          "height": 725
        },
        "executionInfo": {
          "elapsed": 411653,
          "status": "ok",
          "timestamp": 1601412905671,
          "user": {
            "displayName": "Andrew Cotter",
            "photoUrl": "",
            "userId": "01600804956648002768"
          },
          "user_tz": 420
        },
        "id": "3m9OOdU_8GWo",
        "outputId": "17c8760c-fa1c-4a6e-f7ed-046d00876eae"
      },
      "outputs": [
        {
          "name": "stdout",
          "output_type": "stream",
          "text": [
            "Epoch 1/20\n",
            "500/500 [==============================] - 39s 29ms/step - loss: 0.4872 - accuracy: 0.7213 - fp: 2913.7465 - tn: 10099.2455\n",
            "Epoch 2/20\n",
            "500/500 [==============================] - 14s 28ms/step - loss: 0.2735 - accuracy: 0.8434 - fp: 1825.9581 - tn: 11266.9601\n",
            "Epoch 3/20\n",
            "500/500 [==============================] - 14s 28ms/step - loss: 0.2489 - accuracy: 0.8579 - fp: 1718.8842 - tn: 11385.4651\n",
            "Epoch 4/20\n",
            "500/500 [==============================] - 32s 64ms/step - loss: 0.2444 - accuracy: 0.8607 - fp: 1673.2236 - tn: 11338.2555\n",
            "Epoch 5/20\n",
            "500/500 [==============================] - 14s 28ms/step - loss: 0.2470 - accuracy: 0.8608 - fp: 1730.9980 - tn: 11382.1577\n",
            "Epoch 6/20\n",
            "500/500 [==============================] - 14s 28ms/step - loss: 0.2331 - accuracy: 0.8687 - fp: 1568.8862 - tn: 11523.2874\n",
            "Epoch 7/20\n",
            "500/500 [==============================] - 35s 70ms/step - loss: 0.2274 - accuracy: 0.8680 - fp: 1610.9341 - tn: 11379.4251\n",
            "Epoch 8/20\n",
            "500/500 [==============================] - 14s 28ms/step - loss: 0.2288 - accuracy: 0.8710 - fp: 1601.5788 - tn: 11471.4032\n",
            "Epoch 9/20\n",
            "500/500 [==============================] - 14s 28ms/step - loss: 0.2321 - accuracy: 0.8679 - fp: 1579.8683 - tn: 11476.5868\n",
            "Epoch 10/20\n",
            "500/500 [==============================] - 31s 62ms/step - loss: 0.2341 - accuracy: 0.8660 - fp: 1598.9980 - tn: 11453.4092\n",
            "Epoch 11/20\n",
            "500/500 [==============================] - 14s 28ms/step - loss: 0.2219 - accuracy: 0.8723 - fp: 1587.1976 - tn: 11435.2595\n",
            "Epoch 12/20\n",
            "500/500 [==============================] - 14s 28ms/step - loss: 0.2195 - accuracy: 0.8733 - fp: 1551.7385 - tn: 11512.0439\n",
            "Epoch 13/20\n",
            "500/500 [==============================] - 14s 28ms/step - loss: 0.2131 - accuracy: 0.8757 - fp: 1542.3872 - tn: 11533.2635\n",
            "Epoch 14/20\n",
            "500/500 [==============================] - 33s 28ms/step - loss: 0.2177 - accuracy: 0.8751 - fp: 1552.4511 - tn: 11487.3892\n",
            "Epoch 15/20\n",
            "500/500 [==============================] - 14s 28ms/step - loss: 0.2155 - accuracy: 0.8752 - fp: 1542.9501 - tn: 11538.1657\n",
            "Epoch 16/20\n",
            "500/500 [==============================] - 14s 28ms/step - loss: 0.2179 - accuracy: 0.8744 - fp: 1565.9261 - tn: 11554.5110\n",
            "Epoch 17/20\n",
            "500/500 [==============================] - 30s 60ms/step - loss: 0.2054 - accuracy: 0.8813 - fp: 1483.6048 - tn: 11511.4890\n",
            "Epoch 18/20\n",
            "500/500 [==============================] - 14s 28ms/step - loss: 0.2162 - accuracy: 0.8778 - fp: 1540.7485 - tn: 11585.7784\n",
            "Epoch 19/20\n",
            "500/500 [==============================] - 14s 27ms/step - loss: 0.2169 - accuracy: 0.8773 - fp: 1493.9102 - tn: 11608.1956\n",
            "Epoch 20/20\n",
            "500/500 [==============================] - 31s 62ms/step - loss: 0.2062 - accuracy: 0.8792 - fp: 1489.3373 - tn: 11488.8403\n"
          ]
        },
        {
          "data": {
            "text/plain": [
              "\u003ctensorflow.python.keras.callbacks.History at 0x7fe5ccce3748\u003e"
            ]
          },
          "execution_count": 9,
          "metadata": {
            "tags": []
          },
          "output_type": "execute_result"
        }
      ],
      "source": [
        "celeb_a_train_data = input_function(\n",
        "    tfds.Split.TRAIN, subgroup_filter='None')\n",
        "unconstrained_model.fit(celeb_a_train_data, epochs=20, steps_per_epoch=500)"
      ]
    },
    {
      "cell_type": "markdown",
      "metadata": {
        "id": "nCtBH9DkvtUy"
      },
      "source": [
        "Evaluating the model on the test data should result in a final accuracy score of around 80% to 85%. Not bad for a simple model with no fine tuning."
      ]
    },
    {
      "cell_type": "code",
      "execution_count": null,
      "metadata": {
        "colab": {
          "height": 52
        },
        "executionInfo": {
          "elapsed": 11957,
          "status": "ok",
          "timestamp": 1601412917661,
          "user": {
            "displayName": "Andrew Cotter",
            "photoUrl": "",
            "userId": "01600804956648002768"
          },
          "user_tz": 420
        },
        "id": "3KwQ37gV8JBc",
        "outputId": "a134459b-f47d-470a-dfee-225eca941495"
      },
      "outputs": [
        {
          "name": "stdout",
          "output_type": "stream",
          "text": [
            "Overall Results, Unconstrained\n",
            "200/200 [==============================] - 10s 32ms/step - loss: 0.3033 - accuracy: 0.8155 - fp: 3313.0000 - tn: 6662.0000\n"
          ]
        }
      ],
      "source": [
        "print('Overall Results, Unconstrained')\n",
        "celeb_a_test_data = input_function(\n",
        "    tfds.Split.TEST, subgroup_filter='None')\n",
        "unconstrained_results = unconstrained_model.evaluate(celeb_a_test_data)"
      ]
    },
    {
      "cell_type": "markdown",
      "metadata": {
        "id": "L5jslIrzwIKo"
      },
      "source": [
        "However, performance evaluated across age group may reveal some shortcomings."
      ]
    },
    {
      "cell_type": "code",
      "execution_count": null,
      "metadata": {
        "colab": {
          "height": 52
        },
        "executionInfo": {
          "elapsed": 30119,
          "status": "ok",
          "timestamp": 1601412947818,
          "user": {
            "displayName": "Andrew Cotter",
            "photoUrl": "",
            "userId": "01600804956648002768"
          },
          "user_tz": 420
        },
        "id": "GgyPlVqaqCLB",
        "outputId": "8a3821d4-b79f-44df-9c02-cd61d8e61282"
      },
      "outputs": [
        {
          "name": "stdout",
          "output_type": "stream",
          "text": [
            "Results for Young Group, Unconstrained\n",
            "15114/15114 [==============================] - 29s 2ms/step - loss: 0.4005 - accuracy: 0.8275 - fp: 2324.0000 - tn: 5293.0000\n"
          ]
        }
      ],
      "source": [
        "print('Results for Young Group, Unconstrained')\n",
        "celeb_a_test_young_group_data = input_function(\n",
        "    tfds.Split.TEST, batch_size=1, subgroup_filter='Young')\n",
        "unconstrained_results_young = unconstrained_model.evaluate(celeb_a_test_young_group_data)"
      ]
    },
    {
      "cell_type": "code",
      "execution_count": null,
      "metadata": {
        "colab": {
          "height": 52
        },
        "executionInfo": {
          "elapsed": 17084,
          "status": "ok",
          "timestamp": 1601412964937,
          "user": {
            "displayName": "Andrew Cotter",
            "photoUrl": "",
            "userId": "01600804956648002768"
          },
          "user_tz": 420
        },
        "id": "Z4h-Qp0L_umh",
        "outputId": "59bea33e-a564-4252-bf4d-e7abb3a84735"
      },
      "outputs": [
        {
          "name": "stdout",
          "output_type": "stream",
          "text": [
            "Results for Old Group, Unconstrained\n",
            "4848/4848 [==============================] - 16s 3ms/step - loss: 0.0000e+00 - accuracy: 0.7783 - fp: 989.0000 - tn: 1369.0000\n"
          ]
        }
      ],
      "source": [
        "print('Results for Old Group, Unconstrained')\n",
        "celeb_a_test_old_group_data = input_function(\n",
        "    tfds.Split.TEST, batch_size=1, subgroup_filter='Old')\n",
        "unconstrained_results_old = unconstrained_model.evaluate(celeb_a_test_old_group_data)"
      ]
    },
    {
      "cell_type": "code",
      "execution_count": null,
      "metadata": {
        "cellView": "both",
        "colab": {
          "height": 260
        },
        "executionInfo": {
          "elapsed": 210,
          "status": "ok",
          "timestamp": 1601412965195,
          "user": {
            "displayName": "Andrew Cotter",
            "photoUrl": "",
            "userId": "01600804956648002768"
          },
          "user_tz": 420
        },
        "id": "WV-uQTQ5-yPc",
        "outputId": "5fd34093-8428-4542-f813-016746dc467a"
      },
      "outputs": [
        {
          "data": {
            "image/png": "[encoded data removed]",
            "text/plain": [
              "\u003cFigure size 600x300 with 1 Axes\u003e"
            ]
          },
          "metadata": {
            "tags": []
          },
          "output_type": "display_data"
        }
      ],
      "source": [
        "#@title Calculate FPR and Compare Unconstrained Performance\n",
        "young_fpr_unconstrained = calculate_fpr(unconstrained_results_young)\n",
        "old_fpr_unconstrained = calculate_fpr(unconstrained_results_old)\n",
        "\n",
        "title = 'Smiling Classifier Performance (Unconstrained-Only)'\n",
        "plot_results([young_fpr_unconstrained, old_fpr_unconstrained], title)"
      ]
    },
    {
      "cell_type": "markdown",
      "metadata": {
        "id": "zYVpZ-DpBsfD"
      },
      "source": [
        "A false positive is where the model incorrectly predicts the positive class. In this context, that means a false positive outcome occurs when the ground truth is an image of a celebrity 'Not Smiling' and the model predicts 'Smiling'. By extension, the false positive rate, which is used in the visualization above, is a measure of accuracy for a test.\n",
        "\n",
        "Looking at performance across age group should reveal a **disproportionate gap between \"Old\" and \"Young\" categories**.\n",
        "\n",
        "This is where TFCO can come in and help close that gap by constraining the false positive rate to be within a more acceptable criterion.\n"
      ]
    },
    {
      "cell_type": "markdown",
      "metadata": {
        "id": "ZNnI_Eu70gVp"
      },
      "source": [
        "# Constrained Model Set Up\n",
        "\n",
        "One of the main challenges when setting up a constrained problem in Keras is that Keras losses and metrics take only two parameters (the labels y_true, and the predictions y_pred). Often, however, the constraints depend on extra side information (in this case, the old/young protected group information).\n",
        "\n",
        "To make sure that this side information is available to TFCO (which creates a\n",
        "custom loss), we replace y_true with a *two-column* Tensor, with the first column containing the labels, and the second the protected group information. The `DatasetWrapper` iterator, which we create in the upcoming cell, performs this transformation:"
      ]
    },
    {
      "cell_type": "code",
      "execution_count": null,
      "metadata": {
        "id": "0vOqlFj0VY2T"
      },
      "outputs": [],
      "source": [
        "class DatasetWrapper(object):\n",
        "  \"\"\"An iterator wrapping input_function.\n",
        "\n",
        "  Normally, input_function iterates over three quantities: the features, the\n",
        "  labels, and the protected group information. Keras normally only looks at the\n",
        "  first two, but this iterator will combine the labels and protected group\n",
        "  information into one `Tensor`, with the labels in the first column and the\n",
        "  protected group information in the second. \n",
        "  \"\"\"\n",
        "\n",
        "  def __init__(self, wrapped):\n",
        "    self._wrapped = wrapped\n",
        "    self._wrapped_iter = self._wrapped.__iter__()\n",
        "\n",
        "  def __iter__(self):\n",
        "    self._wrapped_iter = self._wrapped.__iter__()\n",
        "    return self\n",
        "\n",
        "  def __next__(self):\n",
        "    features, label, group = self._wrapped_iter.__next__()\n",
        "    combined = tf.stack([label, group], axis=1)\n",
        "    return (features, combined)"
      ]
    },
    {
      "cell_type": "markdown",
      "metadata": {
        "id": "kE0HgU09Wr7M"
      },
      "source": [
        "Now that y_true contains two columns, we need to be able to *extract* the relevant information whenever needed. To this end, we create the following `tfco.KerasPlaceholders`, which tell us how to map the y_true and y_pred arguments to particular quantities of interest (the predictions, labels, and protected group information, respectively):\n"
      ]
    },
    {
      "cell_type": "code",
      "execution_count": null,
      "metadata": {
        "id": "Uw6zBbA9aDCj"
      },
      "outputs": [],
      "source": [
        "# We use KerasPlaceholder objects to define how the inputs to the Keras loss\n",
        "# function (y_true and y_pred) should be mapped to inputs into TFCO. Notice in\n",
        "# particular that the labels are in the first column of y_true, and the group\n",
        "# indicators are in the second column.\n",
        "tfco_predictions = tfco.KerasPlaceholder(lambda _, y_pred: y_pred)\n",
        "tfco_labels = tfco.KerasPlaceholder(lambda y_true, _: y_true[:, 0])\n",
        "tfco_groups = tfco.KerasPlaceholder(lambda y_true, _: y_true[:, 1])\n",
        "tfco_placeholders = [tfco_predictions, tfco_labels, tfco_groups]"
      ]
    },
    {
      "cell_type": "markdown",
      "metadata": {
        "id": "8ZwCsneuaJjL"
      },
      "source": [
        "\n",
        "As documented in [TFCO's library](https://github.com/google-research/tensorflow_constrained_optimization/tree/master/README.md), there are several helpers that will make it easier to constrain the problem:\n",
        "\n",
        "1.   `tfco.rate_context()` – A \"context\" tells us what we're taking a rate *of*. Here, for example, we're interested in the error rate on the full dataset, and the FPRs on the \"old\" and \"young\" protected classes, so we construct contexts representing, respectively, the full dataset, and the \"old\"\n",
        "and \"young\" protected classes.\n",
        "1.   `tfco.error_rate()` and `tfco.false_positive_rate()`. These, among many other rate helpers, are used to specify what quantity you want to minimize, and what quantities you want to constrain.\n",
        "1.   `tfco.KerasLayer()`– The rate expression to be minimized here will be the error rate, subject to FPR constraints. The `KerasLayer` is an identity function from the model's perspective, but contains TFCO state that is required for optimization (e.g. rate denominators, slack variables, and Lagrange multipliers), so it must be included somewhere in the model.\n",
        "\n",
        "The cell below will call on these helpers to set up model training with the fairness constraint."
      ]
    },
    {
      "cell_type": "code",
      "execution_count": null,
      "metadata": {
        "id": "BTukzvfD6iWr"
      },
      "outputs": [],
      "source": [
        "# Create overall context and subsetted context. The subsetted contexts contain\n",
        "# examples where group attribute \u003c 0.5 and \u003e 0.5 (i.e. \"old\" and \"young\"\n",
        "# celebrity images), respectively.\n",
        "tfco_context = tfco.rate_context(\n",
        "    predictions=tfco_predictions, labels=tfco_labels)\n",
        "tfco_old_context = tfco_context.subset(lambda: tfco_groups() \u003c 0.5)\n",
        "tfco_young_context = tfco_context.subset(lambda: tfco_groups() \u003e= 0.5)\n",
        "\n",
        "# Minimize overall error rate....\n",
        "tfco_objective = tfco.error_rate(tfco_context)\n",
        "# .... such that FPR on the both groups is at most 5%.\n",
        "tfco_constraints = [\n",
        "    tfco.false_positive_rate(tfco_old_context) \u003c= 0.05,\n",
        "    tfco.false_positive_rate(tfco_young_context) \u003c= 0.05,\n",
        "]\n",
        "# Another possibility would be to constrain the \"old\" FPR to be no larger than\n",
        "# the \"young\" FPR, which could be accomplished with the constraint set:\n",
        "#   tfco_constraints = [\n",
        "#       tfco.false_positive_rate(tfco_old_context) \u003c=\n",
        "#       tfco.false_positive_rate(tfco_young_context)\n",
        "#   ]\n",
        "# If you're interested, try this version out, instead!\n",
        "\n",
        "# Setup rate minimization problem: minimize overall error rate s.t. constraints,\n",
        "# and store everything needed in \"tfco_layer\", which will be included in the\n",
        "# sequential Keras model, below.\n",
        "tfco_layer = tfco.KerasLayer(\n",
        "    objective=tfco_objective,\n",
        "    constraints=tfco_constraints,\n",
        "    placeholders=tfco_placeholders)\n",
        "\n",
        "# Unlike in the \"unconstrained\" case, the KerasMetricWrapper must now also\n",
        "# extract the labels from the y_true metric parameter, which contains two\n",
        "# columns, the labels and protected class information. To this end, we pass the\n",
        "# tfco_labels KerasPlaceholder to the metrics, so that it knows to take the\n",
        "# first column.\n",
        "constrained_metrics = [\n",
        "    tfco.KerasMetricWrapper(\n",
        "        tf.keras.metrics.BinaryAccuracy(),\n",
        "        labels=tfco_labels,\n",
        "        from_logits=True,\n",
        "        name='accuracy'),\n",
        "    tfco.KerasMetricWrapper(\n",
        "        tf.keras.metrics.FalsePositives(),\n",
        "        labels=tfco_labels,\n",
        "        from_logits=True,\n",
        "        name='fp'),\n",
        "    tfco.KerasMetricWrapper(\n",
        "        tf.keras.metrics.TrueNegatives(),\n",
        "        labels=tfco_labels,\n",
        "        from_logits=True,\n",
        "        name='tn')\n",
        "]\n",
        "\n",
        "# Notice the presence of \"tfco_layer\". This is necessary, since it is this\n",
        "# object that contains the extra state (slack variables, Lagrange multipliers,\n",
        "# etc.) used by TFCO. From the perspective of the *model*, however, this layer\n",
        "# does nothing--it's an identity function.\n",
        "constrained_model = keras.Sequential([\n",
        "    keras.layers.Flatten(input_shape=(IMAGE_SIZE, IMAGE_SIZE, 3)),\n",
        "    keras.layers.Dense(64, activation=tf.nn.relu),\n",
        "    keras.layers.Dense(1, activation=None), tfco_layer\n",
        "])\n",
        "\n",
        "constrained_model.compile(\n",
        "    optimizer=tf.keras.optimizers.Adam(),\n",
        "    loss=tfco_layer.loss,\n",
        "    metrics=constrained_metrics)"
      ]
    },
    {
      "cell_type": "markdown",
      "metadata": {
        "id": "thEe8A8UYbrO"
      },
      "source": [
        "The model is now set up and ready to be trained with the false positive rate constraint across age group. Notice the use of `DatasetWrapper`, which appends the protected group information as the second column of the labels."
      ]
    },
    {
      "cell_type": "code",
      "execution_count": null,
      "metadata": {
        "colab": {
          "height": 725
        },
        "executionInfo": {
          "elapsed": 404102,
          "status": "ok",
          "timestamp": 1601413369773,
          "user": {
            "displayName": "Andrew Cotter",
            "photoUrl": "",
            "userId": "01600804956648002768"
          },
          "user_tz": 420
        },
        "id": "73doG4HL6nPS",
        "outputId": "04e8da4d-09d7-4720-8953-2e33133e3912"
      },
      "outputs": [
        {
          "name": "stdout",
          "output_type": "stream",
          "text": [
            "Epoch 1/20\n",
            "500/500 [==============================] - 36s 65ms/step - loss: 0.7030 - accuracy: 0.7052 - fp: 2184.6806 - tn: 10826.2675\n",
            "Epoch 2/20\n",
            "500/500 [==============================] - 13s 27ms/step - loss: 0.3860 - accuracy: 0.8395 - fp: 1024.8902 - tn: 12055.3932\n",
            "Epoch 3/20\n",
            "500/500 [==============================] - 13s 27ms/step - loss: 0.3979 - accuracy: 0.8355 - fp: 853.2395 - tn: 12272.6826\n",
            "Epoch 4/20\n",
            "500/500 [==============================] - 31s 62ms/step - loss: 0.3864 - accuracy: 0.8406 - fp: 735.1098 - tn: 12268.5749\n",
            "Epoch 5/20\n",
            "500/500 [==============================] - 14s 27ms/step - loss: 0.3860 - accuracy: 0.8407 - fp: 664.9122 - tn: 12454.6866\n",
            "Epoch 6/20\n",
            "500/500 [==============================] - 13s 26ms/step - loss: 0.3737 - accuracy: 0.8477 - fp: 622.1417 - tn: 12481.9281\n",
            "Epoch 7/20\n",
            "500/500 [==============================] - 30s 61ms/step - loss: 0.3658 - accuracy: 0.8477 - fp: 628.7026 - tn: 12356.1277\n",
            "Epoch 8/20\n",
            "500/500 [==============================] - 13s 27ms/step - loss: 0.3703 - accuracy: 0.8434 - fp: 662.2515 - tn: 12437.9281\n",
            "Epoch 9/20\n",
            "500/500 [==============================] - 13s 27ms/step - loss: 0.3806 - accuracy: 0.8436 - fp: 672.6407 - tn: 12365.1138\n",
            "Epoch 10/20\n",
            "500/500 [==============================] - 28s 57ms/step - loss: 0.3716 - accuracy: 0.8443 - fp: 597.7705 - tn: 12455.9042\n",
            "Epoch 11/20\n",
            "500/500 [==============================] - 13s 26ms/step - loss: 0.3583 - accuracy: 0.8499 - fp: 626.1417 - tn: 12392.7525\n",
            "Epoch 12/20\n",
            "500/500 [==============================] - 13s 27ms/step - loss: 0.3815 - accuracy: 0.8416 - fp: 641.6287 - tn: 12408.2834\n",
            "Epoch 13/20\n",
            "500/500 [==============================] - 13s 26ms/step - loss: 0.3633 - accuracy: 0.8477 - fp: 592.5369 - tn: 12488.6088\n",
            "Epoch 14/20\n",
            "500/500 [==============================] - 29s 59ms/step - loss: 0.3464 - accuracy: 0.8534 - fp: 659.4471 - tn: 12365.8423\n",
            "Epoch 15/20\n",
            "500/500 [==============================] - 13s 27ms/step - loss: 0.3521 - accuracy: 0.8498 - fp: 654.8363 - tn: 12421.4291\n",
            "Epoch 16/20\n",
            "500/500 [==============================] - 14s 27ms/step - loss: 0.3508 - accuracy: 0.8526 - fp: 605.9341 - tn: 12530.1996\n",
            "Epoch 17/20\n",
            "500/500 [==============================] - 27s 55ms/step - loss: 0.3455 - accuracy: 0.8554 - fp: 638.9341 - tn: 12361.6866\n",
            "Epoch 18/20\n",
            "500/500 [==============================] - 13s 26ms/step - loss: 0.3439 - accuracy: 0.8542 - fp: 664.1717 - tn: 12483.2675\n",
            "Epoch 19/20\n",
            "500/500 [==============================] - 13s 26ms/step - loss: 0.3496 - accuracy: 0.8519 - fp: 636.1776 - tn: 12437.2794\n",
            "Epoch 20/20\n",
            "500/500 [==============================] - 29s 57ms/step - loss: 0.3376 - accuracy: 0.8597 - fp: 659.1737 - tn: 12323.1277\n"
          ]
        },
        {
          "data": {
            "text/plain": [
              "\u003ctensorflow.python.keras.callbacks.History at 0x7fe5cccc9278\u003e"
            ]
          },
          "execution_count": 17,
          "metadata": {
            "tags": []
          },
          "output_type": "execute_result"
        }
      ],
      "source": [
        "# For now, we're just going to train for a while, and use the last iterate, so\n",
        "# we don't need to create these checkpoints.\n",
        "#\n",
        "# In the next section of this Colab, however, we'll use the checkpoints created\n",
        "# in this training run to find the best *individual* checkpoint, and the best\n",
        "# *distribution* over the checkpoints (i.e. the best stochastic model supported\n",
        "# on the checkpoints).\n",
        "checkpoint_filepath = '/tmp/tfco_celeb_a_checkpoints/weights_{epoch:03d}'\n",
        "checkpoint_callback = tf.keras.callbacks.ModelCheckpoint(\n",
        "    filepath=checkpoint_filepath,\n",
        "    save_weights_only=True,\n",
        "    save_freq=\"epoch\")\n",
        "\n",
        "celeb_a_train_data = DatasetWrapper(input_function(\n",
        "    tfds.Split.TRAIN, subgroup_filter='None'))\n",
        "constrained_model.fit(celeb_a_train_data, epochs=20, steps_per_epoch=500, callbacks=[checkpoint_callback])"
      ]
    },
    {
      "cell_type": "code",
      "execution_count": null,
      "metadata": {
        "colab": {
          "height": 52
        },
        "executionInfo": {
          "elapsed": 16156,
          "status": "ok",
          "timestamp": 1601413385971,
          "user": {
            "displayName": "Andrew Cotter",
            "photoUrl": "",
            "userId": "01600804956648002768"
          },
          "user_tz": 420
        },
        "id": "dg-eW-jHjmiq",
        "outputId": "b023fba3-a882-409d-ab13-878e1e0a3b96"
      },
      "outputs": [
        {
          "name": "stdout",
          "output_type": "stream",
          "text": [
            "Overall Results, Constrained\n",
            "201/201 [==============================] - 13s 61ms/step - loss: 0.3005 - accuracy: 0.8709 - fp: 830.0000 - tn: 9193.0000\n"
          ]
        }
      ],
      "source": [
        "print('Overall Results, Constrained')\n",
        "celeb_a_test_data = DatasetWrapper(input_function(\n",
        "    tfds.Split.TEST, subgroup_filter='None'))\n",
        "constrained_results = constrained_model.evaluate(celeb_a_test_data)"
      ]
    },
    {
      "cell_type": "markdown",
      "metadata": {
        "id": "hfZn5WzJafth"
      },
      "source": [
        "As one should expect, the accuracy of the constrained model is slightly worse than the unconstrained model. But what's more important is improved performance across groups."
      ]
    },
    {
      "cell_type": "code",
      "execution_count": null,
      "metadata": {
        "colab": {
          "height": 52
        },
        "executionInfo": {
          "elapsed": 46251,
          "status": "ok",
          "timestamp": 1601413432276,
          "user": {
            "displayName": "Andrew Cotter",
            "photoUrl": "",
            "userId": "01600804956648002768"
          },
          "user_tz": 420
        },
        "id": "SfqORQ7368Bv",
        "outputId": "10a220f2-de68-449e-a2da-88d42bcf64e7"
      },
      "outputs": [
        {
          "name": "stdout",
          "output_type": "stream",
          "text": [
            "Results for Young Group, Constrained\n",
            "15115/15115 [==============================] - 44s 3ms/step - loss: 0.2813 - accuracy: 0.8795 - fp: 659.0000 - tn: 6958.0000\n"
          ]
        }
      ],
      "source": [
        "print('Results for Young Group, Constrained')\n",
        "celeb_a_test_young_group_data = DatasetWrapper(input_function(\n",
        "    tfds.Split.TEST, batch_size=1, subgroup_filter='Young'))\n",
        "constrained_results_young = constrained_model.evaluate(celeb_a_test_young_group_data)"
      ]
    },
    {
      "cell_type": "code",
      "execution_count": null,
      "metadata": {
        "colab": {
          "height": 52
        },
        "executionInfo": {
          "elapsed": 25082,
          "status": "ok",
          "timestamp": 1601413457406,
          "user": {
            "displayName": "Andrew Cotter",
            "photoUrl": "",
            "userId": "01600804956648002768"
          },
          "user_tz": 420
        },
        "id": "v-oLGuxeBCKo",
        "outputId": "b613bbe5-4c05-4abc-95f8-cd4e47decdee"
      },
      "outputs": [
        {
          "name": "stdout",
          "output_type": "stream",
          "text": [
            "Results for Old Group, Constrained\n",
            "4849/4849 [==============================] - 22s 5ms/step - loss: 0.3590 - accuracy: 0.8449 - fp: 166.0000 - tn: 2193.0000\n"
          ]
        }
      ],
      "source": [
        "print('Results for Old Group, Constrained')\n",
        "celeb_a_test_old_group_data = DatasetWrapper(input_function(\n",
        "    tfds.Split.TEST, batch_size=1, subgroup_filter='Old'))\n",
        "constrained_results_old = constrained_model.evaluate(celeb_a_test_old_group_data)"
      ]
    },
    {
      "cell_type": "code",
      "execution_count": null,
      "metadata": {
        "cellView": "both",
        "colab": {
          "height": 315
        },
        "executionInfo": {
          "elapsed": 243,
          "status": "ok",
          "timestamp": 1601413457716,
          "user": {
            "displayName": "Andrew Cotter",
            "photoUrl": "",
            "userId": "01600804956648002768"
          },
          "user_tz": 420
        },
        "id": "emp9iRG0YIhI",
        "outputId": "d4c12fcd-86ee-4f51-ffc8-f96af1221c43"
      },
      "outputs": [
        {
          "data": {
            "image/png": "[encoded data removed]",
            "text/plain": [
              "\u003cFigure size 600x400 with 1 Axes\u003e"
            ]
          },
          "metadata": {
            "tags": []
          },
          "output_type": "display_data"
        }
      ],
      "source": [
        "#@title Calculate FPR and Compare Constrained Performance\n",
        "young_fpr_constrained = calculate_fpr(constrained_results_young)\n",
        "old_fpr_constrained = calculate_fpr(constrained_results_old)\n",
        "\n",
        "title = 'Smiling Classifier Performance (Unconstrained and Constrained)'\n",
        "fpr_results = [\n",
        "    young_fpr_unconstrained, old_fpr_unconstrained, young_fpr_constrained,\n",
        "    old_fpr_constrained\n",
        "]\n",
        "plot_results(fpr_results, title)"
      ]
    },
    {
      "cell_type": "markdown",
      "metadata": {
        "id": "lrT-7EBrcBvV"
      },
      "source": [
        "TFCO's ability to express a more complex requirements as rate constraints helped this model to achieve a more desirable outcome. There is still room for improvement, but at least TFCO was able to find a model that roughly satisfies the constraints, while significantly reducing the disparity between the FPRs of the two groups.\n",
        "\n",
        "We've found that this particular training pipeline is a bit unstable: usually, if you run it, you will achieve results similar to the above, but occasionally, the constrained (or unconstrained) optimization will get stuck at a comparitively-poor local optimum. The simplest solution would be to train multiple times, and keep the best result. Another, more advanced, alternative, will be explored in the upcoming section."
      ]
    },
    {
      "cell_type": "markdown",
      "metadata": {
        "id": "5pYZPJEZfke5"
      },
      "source": [
        "# Postprocessing\n",
        "\n",
        "Above, we trained a model and evaluated the performance of the last iterate,which usually works well. Occasionaly, however, one might find that the optimizer, instead of converging, *oscillates* (this might be unavoidable: for non-convex constrained optimization using the Lagrangian, a stable stationary point might not even *exist*, in some circumstances).\n",
        "\n",
        "For this reason, if you want an alternative to the last iterate, TFCO includes a couple of helper functions that look at the entire *sequence* of iterates, and either find the best single iterate (`tfco.find_best_candidate_index()`), or the best *distribution* over the iterates (`tfco.find_best_candidate_distribution()`). In the latter case, the distribution can be converted into a stochastic classifier: every time you're asked to classify an example, you would sample a model from this distribution, and then evaluate it.\n",
        "\n",
        "For `tfco.find_best_candidate_distribution()`, the notion of the \"best\" distribution is well-defined: it minimizes the objective function while satisfying the constraints. This condition can be too restrictive when one is seeking the best iterate, so `tfco.find_best_candidate_index()` implements a *heuristic* that ranks each of the checkpoints based on the objective and constraints (in this case, accuracy, and false positive rate across age group) separately with respect to the training data. That way, it can search for a better trade-off between overall accuracy and the age-specific FPRs.\n",
        "\n",
        "Before we can call either of these functions, we need to evaluate the objective function, and each of the constraint functions, at every checkpoint:"
      ]
    },
    {
      "cell_type": "code",
      "execution_count": null,
      "metadata": {
        "colab": {
          "height": 1000
        },
        "executionInfo": {
          "elapsed": 1656226,
          "status": "ok",
          "timestamp": 1601420311772,
          "user": {
            "displayName": "Andrew Cotter",
            "photoUrl": "",
            "userId": "01600804956648002768"
          },
          "user_tz": 420
        },
        "id": "7uG1Wppdfq58",
        "outputId": "0c6c6eaa-29b1-4a68-9c70-12365108c50e"
      },
      "outputs": [
        {
          "name": "stdout",
          "output_type": "stream",
          "text": [
            "loading checkpoint from \"/tmp/tfco_celeb_a_checkpoints/weights_001\"\n",
            "201/201 [==============================] - 11s 54ms/step - loss: 0.4025 - accuracy: 0.8322 - fp: 451.0000 - tn: 9572.0000\n",
            "15115/15115 [==============================] - 44s 3ms/step - loss: 0.3807 - accuracy: 0.8437 - fp: 311.0000 - tn: 7306.0000\n",
            "4849/4849 [==============================] - 22s 5ms/step - loss: 0.4692 - accuracy: 0.7973 - fp: 135.0000 - tn: 2224.0000\n",
            "loading checkpoint from \"/tmp/tfco_celeb_a_checkpoints/weights_002\"\n",
            "201/201 [==============================] - 11s 53ms/step - loss: 0.3534 - accuracy: 0.8547 - fp: 532.0000 - tn: 9491.0000\n",
            "15115/15115 [==============================] - 43s 3ms/step - loss: 0.3312 - accuracy: 0.8652 - fp: 372.0000 - tn: 7245.0000\n",
            "4849/4849 [==============================] - 21s 4ms/step - loss: 0.4202 - accuracy: 0.8237 - fp: 154.0000 - tn: 2205.0000\n",
            "loading checkpoint from \"/tmp/tfco_celeb_a_checkpoints/weights_003\"\n",
            "201/201 [==============================] - 12s 62ms/step - loss: 0.3702 - accuracy: 0.8456 - fp: 364.0000 - tn: 9659.0000\n",
            "15115/15115 [==============================] - 43s 3ms/step - loss: 0.3449 - accuracy: 0.8582 - fp: 260.0000 - tn: 7357.0000\n",
            "4849/4849 [==============================] - 23s 5ms/step - loss: 0.4479 - accuracy: 0.8072 - fp: 101.0000 - tn: 2258.0000\n",
            "loading checkpoint from \"/tmp/tfco_celeb_a_checkpoints/weights_004\"\n",
            "201/201 [==============================] - 12s 59ms/step - loss: 0.5402 - accuracy: 0.7840 - fp: 110.0000 - tn: 9913.0000\n",
            "15115/15115 [==============================] - 44s 3ms/step - loss: 0.4999 - accuracy: 0.8017 - fp: 76.0000 - tn: 7541.0000\n",
            "4849/4849 [==============================] - 22s 4ms/step - loss: 0.6647 - accuracy: 0.7298 - fp: 33.0000 - tn: 2326.0000\n",
            "loading checkpoint from \"/tmp/tfco_celeb_a_checkpoints/weights_005\"\n",
            "201/201 [==============================] - 12s 62ms/step - loss: 0.3360 - accuracy: 0.8619 - fp: 527.0000 - tn: 9496.0000\n",
            "15115/15115 [==============================] - 43s 3ms/step - loss: 0.3124 - accuracy: 0.8726 - fp: 380.0000 - tn: 7237.0000\n",
            "4849/4849 [==============================] - 22s 4ms/step - loss: 0.4075 - accuracy: 0.8311 - fp: 142.0000 - tn: 2217.0000\n",
            "loading checkpoint from \"/tmp/tfco_celeb_a_checkpoints/weights_006\"\n",
            "201/201 [==============================] - 12s 60ms/step - loss: 0.3773 - accuracy: 0.8438 - fp: 325.0000 - tn: 9698.0000\n",
            "15115/15115 [==============================] - 44s 3ms/step - loss: 0.3496 - accuracy: 0.8566 - fp: 229.0000 - tn: 7388.0000\n",
            "4849/4849 [==============================] - 21s 4ms/step - loss: 0.4627 - accuracy: 0.8049 - fp: 92.0000 - tn: 2267.0000\n",
            "loading checkpoint from \"/tmp/tfco_celeb_a_checkpoints/weights_007\"\n",
            "201/201 [==============================] - 12s 61ms/step - loss: 0.4009 - accuracy: 0.8299 - fp: 245.0000 - tn: 9778.0000\n",
            "15115/15115 [==============================] - 43s 3ms/step - loss: 0.3638 - accuracy: 0.8481 - fp: 184.0000 - tn: 7433.0000\n",
            "4849/4849 [==============================] - 22s 5ms/step - loss: 0.5148 - accuracy: 0.7740 - fp: 58.0000 - tn: 2301.0000\n",
            "loading checkpoint from \"/tmp/tfco_celeb_a_checkpoints/weights_008\"\n",
            "201/201 [==============================] - 12s 61ms/step - loss: 0.3655 - accuracy: 0.8515 - fp: 433.0000 - tn: 9590.0000\n",
            "15115/15115 [==============================] - 43s 3ms/step - loss: 0.3351 - accuracy: 0.8654 - fp: 326.0000 - tn: 7291.0000\n",
            "4849/4849 [==============================] - 21s 4ms/step - loss: 0.4587 - accuracy: 0.8094 - fp: 103.0000 - tn: 2256.0000\n",
            "loading checkpoint from \"/tmp/tfco_celeb_a_checkpoints/weights_009\"\n",
            "201/201 [==============================] - 13s 66ms/step - loss: 0.4470 - accuracy: 0.8137 - fp: 180.0000 - tn: 9843.0000\n",
            "15115/15115 [==============================] - 42s 3ms/step - loss: 0.4090 - accuracy: 0.8310 - fp: 130.0000 - tn: 7487.0000\n",
            "4849/4849 [==============================] - 21s 4ms/step - loss: 0.5640 - accuracy: 0.7610 - fp: 48.0000 - tn: 2311.0000\n",
            "loading checkpoint from \"/tmp/tfco_celeb_a_checkpoints/weights_010\"\n",
            "201/201 [==============================] - 12s 59ms/step - loss: 0.3396 - accuracy: 0.8579 - fp: 421.0000 - tn: 9602.0000\n",
            "15115/15115 [==============================] - 43s 3ms/step - loss: 0.3140 - accuracy: 0.8705 - fp: 316.0000 - tn: 7301.0000\n",
            "4849/4849 [==============================] - 21s 4ms/step - loss: 0.4176 - accuracy: 0.8202 - fp: 101.0000 - tn: 2258.0000\n",
            "loading checkpoint from \"/tmp/tfco_celeb_a_checkpoints/weights_011\"\n",
            "201/201 [==============================] - 12s 62ms/step - loss: 0.5295 - accuracy: 0.7803 - fp: 73.0000 - tn: 9950.0000\n",
            "15115/15115 [==============================] - 42s 3ms/step - loss: 0.4835 - accuracy: 0.8013 - fp: 54.0000 - tn: 7563.0000\n",
            "4849/4849 [==============================] - 22s 5ms/step - loss: 0.6716 - accuracy: 0.7152 - fp: 19.0000 - tn: 2340.0000\n",
            "loading checkpoint from \"/tmp/tfco_celeb_a_checkpoints/weights_012\"\n",
            "201/201 [==============================] - 12s 61ms/step - loss: 0.4946 - accuracy: 0.7838 - fp: 90.0000 - tn: 9933.0000\n",
            "15115/15115 [==============================] - 43s 3ms/step - loss: 0.4523 - accuracy: 0.8032 - fp: 68.0000 - tn: 7549.0000\n",
            "4849/4849 [==============================] - 22s 5ms/step - loss: 0.6250 - accuracy: 0.7239 - fp: 22.0000 - tn: 2337.0000\n",
            "loading checkpoint from \"/tmp/tfco_celeb_a_checkpoints/weights_013\"\n",
            "201/201 [==============================] - 13s 63ms/step - loss: 0.4068 - accuracy: 0.8362 - fp: 283.0000 - tn: 9740.0000\n",
            "15115/15115 [==============================] - 43s 3ms/step - loss: 0.3726 - accuracy: 0.8509 - fp: 209.0000 - tn: 7408.0000\n",
            "4849/4849 [==============================] - 22s 5ms/step - loss: 0.5113 - accuracy: 0.7915 - fp: 70.0000 - tn: 2289.0000\n",
            "loading checkpoint from \"/tmp/tfco_celeb_a_checkpoints/weights_014\"\n",
            "201/201 [==============================] - 13s 64ms/step - loss: 0.3770 - accuracy: 0.8393 - fp: 291.0000 - tn: 9732.0000\n",
            "15115/15115 [==============================] - 43s 3ms/step - loss: 0.3462 - accuracy: 0.8537 - fp: 219.0000 - tn: 7398.0000\n",
            "4849/4849 [==============================] - 21s 4ms/step - loss: 0.4712 - accuracy: 0.7962 - fp: 69.0000 - tn: 2290.0000\n",
            "loading checkpoint from \"/tmp/tfco_celeb_a_checkpoints/weights_015\"\n",
            "201/201 [==============================] - 12s 60ms/step - loss: 0.3035 - accuracy: 0.8726 - fp: 849.0000 - tn: 9174.0000\n",
            "15115/15115 [==============================] - 43s 3ms/step - loss: 0.2845 - accuracy: 0.8810 - fp: 654.0000 - tn: 6963.0000\n",
            "4849/4849 [==============================] - 22s 5ms/step - loss: 0.3607 - accuracy: 0.8480 - fp: 189.0000 - tn: 2170.0000\n",
            "loading checkpoint from \"/tmp/tfco_celeb_a_checkpoints/weights_016\"\n",
            "201/201 [==============================] - 12s 60ms/step - loss: 0.3058 - accuracy: 0.8710 - fp: 737.0000 - tn: 9286.0000\n",
            "15115/15115 [==============================] - 43s 3ms/step - loss: 0.2857 - accuracy: 0.8789 - fp: 554.0000 - tn: 7063.0000\n",
            "4849/4849 [==============================] - 22s 5ms/step - loss: 0.3666 - accuracy: 0.8472 - fp: 178.0000 - tn: 2181.0000\n",
            "loading checkpoint from \"/tmp/tfco_celeb_a_checkpoints/weights_017\"\n",
            "201/201 [==============================] - 12s 58ms/step - loss: 0.3114 - accuracy: 0.8701 - fp: 614.0000 - tn: 9409.0000\n",
            "15115/15115 [==============================] - 43s 3ms/step - loss: 0.2886 - accuracy: 0.8802 - fp: 462.0000 - tn: 7155.0000\n",
            "4849/4849 [==============================] - 22s 4ms/step - loss: 0.3807 - accuracy: 0.8393 - fp: 148.0000 - tn: 2211.0000\n",
            "loading checkpoint from \"/tmp/tfco_celeb_a_checkpoints/weights_018\"\n",
            "201/201 [==============================] - 12s 58ms/step - loss: 0.3516 - accuracy: 0.8475 - fp: 322.0000 - tn: 9701.0000\n",
            "15115/15115 [==============================] - 43s 3ms/step - loss: 0.3204 - accuracy: 0.8621 - fp: 248.0000 - tn: 7369.0000\n",
            "4849/4849 [==============================] - 24s 5ms/step - loss: 0.4477 - accuracy: 0.8031 - fp: 72.0000 - tn: 2287.0000\n",
            "loading checkpoint from \"/tmp/tfco_celeb_a_checkpoints/weights_019\"\n",
            "201/201 [==============================] - 12s 59ms/step - loss: 0.3085 - accuracy: 0.8714 - fp: 585.0000 - tn: 9438.0000\n",
            "15115/15115 [==============================] - 44s 3ms/step - loss: 0.2870 - accuracy: 0.8818 - fp: 437.0000 - tn: 7180.0000\n",
            "4849/4849 [==============================] - 22s 5ms/step - loss: 0.3743 - accuracy: 0.8402 - fp: 143.0000 - tn: 2216.0000\n",
            "loading checkpoint from \"/tmp/tfco_celeb_a_checkpoints/weights_020\"\n",
            "201/201 [==============================] - 12s 60ms/step - loss: 0.3005 - accuracy: 0.8709 - fp: 830.0000 - tn: 9193.0000\n",
            "15115/15115 [==============================] - 44s 3ms/step - loss: 0.2813 - accuracy: 0.8795 - fp: 659.0000 - tn: 6958.0000\n",
            "4849/4849 [==============================] - 22s 5ms/step - loss: 0.3590 - accuracy: 0.8449 - fp: 166.0000 - tn: 2193.0000\n"
          ]
        }
      ],
      "source": [
        "accuracies = []\n",
        "young_fprs = []\n",
        "old_fprs = []\n",
        "for ii in range(20):\n",
        "  filename = \"/tmp/tfco_celeb_a_checkpoints/weights_%03d\" % (ii + 1)\n",
        "  print(\"loading checkpoint from \\\"{}\\\"\".format(filename))\n",
        "  constrained_model.load_weights(filename)\n",
        "\n",
        "  # For post-processing, we'd normally evaluate the metrics on the *training*\n",
        "  # set (or better yet, a validation set, if it's available), but the training\n",
        "  # set is so large that this colab would take far too long to execute, and this\n",
        "  # is only an example, after all. On a \"real\" problem, one shouldn't abuse the\n",
        "  # testing set like this.\n",
        "  celeb_a_test_data = DatasetWrapper(input_function(\n",
        "    tfds.Split.TEST, subgroup_filter='None'))\n",
        "  constrained_results = constrained_model.evaluate(celeb_a_test_data)\n",
        "  accuracies.append(constrained_results[1])\n",
        "\n",
        "  celeb_a_test_young_group_data = DatasetWrapper(input_function(\n",
        "      tfds.Split.TEST, batch_size=1, subgroup_filter='Young'))\n",
        "  constrained_results_young = constrained_model.evaluate(celeb_a_test_young_group_data)\n",
        "  young_fprs.append(calculate_fpr(constrained_results_young))\n",
        "\n",
        "  celeb_a_test_old_group_data = DatasetWrapper(input_function(\n",
        "    tfds.Split.TEST, batch_size=1, subgroup_filter='Old'))\n",
        "  constrained_results_old = constrained_model.evaluate(celeb_a_test_old_group_data)\n",
        "  old_fprs.append(calculate_fpr(constrained_results_old))"
      ]
    },
    {
      "cell_type": "markdown",
      "metadata": {
        "id": "2R7pXo_NTAtB"
      },
      "source": [
        "Now that we've evaluated the objective and constraints on each of the checkpoints, we can find the best index and best distribution:"
      ]
    },
    {
      "cell_type": "code",
      "execution_count": null,
      "metadata": {
        "colab": {
          "height": 52
        },
        "executionInfo": {
          "elapsed": 830,
          "status": "ok",
          "timestamp": 1601420312644,
          "user": {
            "displayName": "Andrew Cotter",
            "photoUrl": "",
            "userId": "01600804956648002768"
          },
          "user_tz": 420
        },
        "id": "lSCTCZ2AlyE5",
        "outputId": "aba19b5e-6422-4891-c94f-9bfbb4c782b1"
      },
      "outputs": [
        {
          "name": "stdout",
          "output_type": "stream",
          "text": [
            "Best index=9: accuracy=0.8579427003860474, young FPR=0.04148614940265196, old FPR=0.04281475201356507\n",
            "Best distribution={9: 0.5964285714285713, 18: 0.40357142857142847}: accuracy=0.8633759426219121, young FPR=0.04789709109323129, old FPR=0.04999999999999999\n"
          ]
        }
      ],
      "source": [
        "# Use this if you're constraining FPR on the both groups to be at most 5%:\n",
        "best_index = tfco.find_best_candidate_index(\n",
        "    -np.array(accuracies),\n",
        "    np.transpose(np.array([young_fprs, old_fprs]) - 0.05))\n",
        "best_distribution = tfco.find_best_candidate_distribution(\n",
        "    -np.array(accuracies),\n",
        "    np.transpose(np.array([young_fprs, old_fprs]) - 0.05))\n",
        "\n",
        "# Or use this if you're constraining the \"old\" FPR to be no larger than the\n",
        "# \"young\" FPR:\n",
        "#best_index = tfco.find_best_candidate_index(\n",
        "#    -np.array(accuracies),\n",
        "#    np.transpose(np.matrix(old_fprs) - np.matrix(young_fprs)))\n",
        "#best_distribution = tfco.find_best_candidate_distribution(\n",
        "#    -np.array(accuracies),\n",
        "#    np.transpose(np.matrix(old_fprs) - np.matrix(young_fprs)))\n",
        "\n",
        "print(\"Best index={}: accuracy={}, young FPR={}, old FPR={}\".format(\n",
        "    best_index, accuracies[best_index], young_fprs[best_index],\n",
        "    old_fprs[best_index]))\n",
        "print(\"Best distribution={}: accuracy={}, young FPR={}, old FPR={}\".format(\n",
        "    {ii: best_distribution[ii]\n",
        "     for ii in range(len(best_distribution))\n",
        "     if best_distribution[ii] \u003e 0}, np.inner(best_distribution, accuracies),\n",
        "    np.inner(best_distribution, young_fprs),\n",
        "    np.inner(best_distribution, old_fprs)))"
      ]
    },
    {
      "cell_type": "markdown",
      "metadata": {
        "id": "KzY5luI0TQSy"
      },
      "source": [
        "Notice that when we calculate the accuracy and FPRs on the best distribution, we do so *in expectation* over the stochastic model that it defines. These numbers aren't especially easy to visualize (although you should observe that both models satisfy the constraints), so we'll now plot the accuracy of the best checkpoint, the best distribution over the checkpoints, and the sequence of checkpoints itself (the rightmost of which is the last iterate, which we used in the previous section):"
      ]
    },
    {
      "cell_type": "code",
      "execution_count": null,
      "metadata": {
        "colab": {
          "height": 301
        },
        "executionInfo": {
          "elapsed": 244,
          "status": "ok",
          "timestamp": 1601420312908,
          "user": {
            "displayName": "Andrew Cotter",
            "photoUrl": "",
            "userId": "01600804956648002768"
          },
          "user_tz": 420
        },
        "id": "WtW97VsNK5u5",
        "outputId": "7f71ea6b-2312-47ad-da96-9d61bb64a3e8"
      },
      "outputs": [
        {
          "data": {
            "image/png": "[encoded data removed]",
            "text/plain": [
              "\u003cFigure size 600x400 with 1 Axes\u003e"
            ]
          },
          "metadata": {
            "tags": []
          },
          "output_type": "display_data"
        }
      ],
      "source": [
        "best_distribution_accuracy = np.inner(best_distribution, accuracies)\n",
        "\n",
        "plt.plot(accuracies, 'm')\n",
        "plt.plot(best_index, accuracies[best_index], 'mo')\n",
        "plt.plot([0, len(accuracies) - 1],\n",
        "         [best_distribution_accuracy, best_distribution_accuracy], 'm--')\n",
        "\n",
        "plt.xlabel('Checkpoint#')\n",
        "plt.ylabel('Accuracy')\n",
        "None"
      ]
    },
    {
      "cell_type": "markdown",
      "metadata": {
        "id": "2SW2R187TpDc"
      },
      "source": [
        "Above, the dashed line is the accuracy of the best distribution, and the filled circle is the best checkpoint. We can see that the best distribution is a bit better than the best checkpoint, which is unsurprising, since it's more flexible.\n",
        "\n",
        "Of course, we don't only care about the accuracies: we also need to satisfy the constraints. These results can be found in the following plot:"
      ]
    },
    {
      "cell_type": "code",
      "execution_count": null,
      "metadata": {
        "colab": {
          "height": 301
        },
        "executionInfo": {
          "elapsed": 320,
          "status": "ok",
          "timestamp": 1601420313278,
          "user": {
            "displayName": "Andrew Cotter",
            "photoUrl": "",
            "userId": "01600804956648002768"
          },
          "user_tz": 420
        },
        "id": "VkJpGteiLJyA",
        "outputId": "58c055fd-e70b-4a4a-b468-c8fbbd0fccaa"
      },
      "outputs": [
        {
          "data": {
            "image/png": "[encoded data removed]",
            "text/plain": [
              "\u003cFigure size 600x400 with 1 Axes\u003e"
            ]
          },
          "metadata": {
            "tags": []
          },
          "output_type": "display_data"
        }
      ],
      "source": [
        "best_distribution_young_fpr = np.inner(best_distribution, young_fprs)\n",
        "best_distribution_old_fpr = np.inner(best_distribution, old_fprs)\n",
        "\n",
        "young_handle, = plt.plot(young_fprs, 'r')\n",
        "plt.plot(best_index, young_fprs[best_index], 'ro')\n",
        "plt.plot([0, len(young_fprs) - 1],\n",
        "         [best_distribution_young_fpr, best_distribution_young_fpr], 'r--')\n",
        "old_handle, = plt.plot(old_fprs, 'b')\n",
        "plt.plot(best_index, old_fprs[best_index], 'bo')\n",
        "plt.plot([0, len(old_fprs) - 1],\n",
        "         [best_distribution_old_fpr, best_distribution_old_fpr], 'b--')\n",
        "\n",
        "plt.xlabel('Checkpoint#')\n",
        "plt.ylabel('FPR')\n",
        "plt.legend([young_handle, old_handle], ['Young', 'Old'])\n",
        "None"
      ]
    },
    {
      "cell_type": "markdown",
      "metadata": {
        "id": "9D8QZN-1UnFK"
      },
      "source": [
        "As before, the dashed lines are the FPRs of the best distribution, and the filled circles are those of the best checkpoint. Just as the best distribution has a higher accuracy that the best iterate, it *also* satisfies the constraints more tightly. This is no accident: in general, the best distribution will outperform any particular single iterate. They're inconvenient, and not suitable to every application, but if you *can* use a stochastic classifier, then you *should*."
      ]
    }
  ],
  "metadata": {
    "colab": {
      "collapsed_sections": [],
      "name": "CelebA_fairness.ipynb"
    },
    "kernelspec": {
      "display_name": "Python 3",
      "name": "python3"
    }
  },
  "nbformat": 4,
  "nbformat_minor": 0
}
