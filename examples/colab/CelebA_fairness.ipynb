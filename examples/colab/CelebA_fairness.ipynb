{
  "cells": [
    {
      "cell_type": "markdown",
      "metadata": {
        "colab_type": "text",
        "id": "S8iIuNNucUwF"
      },
      "source": [
        "##### Copyright 2020 The TensorFlow Constrained Optimization Authors. All Rights Reserved.\n",
        "\n",
        "Licensed under the Apache License, Version 2.0 (the \\\"License\\\"); you may not use this file except in compliance with the License. You may obtain a copy of the License at\n",
        "\n",
        "\u003e http://www.apache.org/licenses/LICENSE-2.0\n",
        "\n",
        "Unless required by applicable law or agreed to in writing, software distributed under the License is distributed on an \\\"AS IS\\\" BASIS, WITHOUT WARRANTIES OR CONDITIONS OF ANY KIND, either express or implied. See the License for the specific language governing permissions and limitations under the License."
      ]
    },
    {
      "cell_type": "markdown",
      "metadata": {
        "colab_type": "text",
        "id": "b2VYQpTttmVN"
      },
      "source": [
        "# TensorFlow Constrained Optimization Example Using CelebA Dataset\n",
        "Building on other [TensorFlow Constrained Optimization (TFCO)](https://github.com/google-research/tensorflow_constrained_optimization/tree/master/README.md) examples, the purpose of this notebook is to further demonstrate how easy it is to create and optimized constrained problems using the TFCO library. In particular, this notebook will:\n",
        "\n",
        "\n",
        "*   Train a simple, *unconstrained* neural network model to detect a person's smile in images using [`tf.keras`](https://www.tensorflow.org/guide/keras) and the large-scale CelebFaces Attributes ([CelebA](http://mmlab.ie.cuhk.edu.hk/projects/CelebA.html)) dataset.\n",
        "*   Evaluate model performance across age group.\n",
        "*   Set up a simple constrained optimization problem to achieve fairer perforamnce across age group.\n",
        "*   Retrain the now *constrained* model and evaluate performance again.\n",
        "\n",
        "Last updated: 15 Sep 2020\n",
        "\n",
        "\n",
        "\n"
      ]
    },
    {
      "cell_type": "markdown",
      "metadata": {
        "colab_type": "text",
        "id": "JyCbEWt5Zxe2"
      },
      "source": [
        "# Installation\n",
        "This notebook was created in [Colaboratory](https://research.google.com/colaboratory/faq.html), connected to the Python 3 Google Compute Engine backend. If you wish to host this notebook in a different environment, then you should not experience any major issues so long as you include all the required packages listed in the cell below.\n",
        "\n",
        "Also, depending on when you run the cell below, you may receive a warning about the default version of TensorFlow in Colab switching to TensorFlow 2.X soon. You can safely ignore that warning as this notebook was designed to be compatible with TensorFlow 1.X and 2.X."
      ]
    },
    {
      "cell_type": "code",
      "execution_count": null,
      "metadata": {
        "cellView": "both",
        "colab": {},
        "colab_type": "code",
        "id": "UTBBdSGaZ8aW"
      },
      "outputs": [],
      "source": [
        "#@title Import Modules\n",
        "!pip install -q tensorflow-datasets tensorflow numpy pandas matplotlib seaborn\n",
        "import os\n",
        "import sys\n",
        "import tempfile\n",
        "import urllib3\n",
        "\n",
        "import tensorflow as tf\n",
        "from tensorflow import keras\n",
        "\n",
        "import tensorflow_datasets as tfds\n",
        "tfds.disable_progress_bar()\n",
        "\n",
        "from matplotlib.ticker import StrMethodFormatter\n",
        "from matplotlib import rcParams\n",
        "import matplotlib.pyplot as plt\n",
        "import seaborn as sns\n",
        "import numpy as np\n",
        "import pandas as pd\n",
        "\n",
        "# Use the GitHub version of TFCO\n",
        "!pip install git+https://github.com/google-research/tensorflow_constrained_optimization\n",
        "import tensorflow_constrained_optimization as tfco"
      ]
    },
    {
      "cell_type": "markdown",
      "metadata": {
        "colab_type": "text",
        "id": "xSG2HP7goGrj"
      },
      "source": [
        "Though TFCO is compatible with eager and graph execution, this notebook assumes that eager execution is enabled by default. To ensure that nothing breaks, eager execution will be enabled in the cell below."
      ]
    },
    {
      "cell_type": "code",
      "execution_count": null,
      "metadata": {
        "cellView": "both",
        "colab": {
          "base_uri": "https://localhost:8080/",
          "height": 51
        },
        "colab_type": "code",
        "executionInfo": {
          "elapsed": 10921,
          "status": "ok",
          "timestamp": 1598990656957,
          "user": {
            "displayName": "Andrew Cotter",
            "photoUrl": "",
            "userId": "01600804956648002768"
          },
          "user_tz": 420
        },
        "id": "W0ZusW1-lBao",
        "outputId": "ff83bbb8-e51c-4e4b-dab0-fca4d7090552"
      },
      "outputs": [
        {
          "name": "stdout",
          "output_type": "stream",
          "text": [
            "Eager execution enabled by default.\n",
            "TensorFlow 2.3.0\n"
          ]
        }
      ],
      "source": [
        "#@title Enable Eager Execution\n",
        "if tf.__version__ \u003c \"2.0.0\":\n",
        "  tf.enable_eager_execution()\n",
        "  print(\"Eager execution enabled.\")\n",
        "else:\n",
        "  print(\"Eager execution enabled by default.\")\n",
        "\n",
        "print(\"TensorFlow \" + tf.__version__)"
      ]
    },
    {
      "cell_type": "markdown",
      "metadata": {
        "colab_type": "text",
        "id": "idY3Uuk3yvty"
      },
      "source": [
        "# CelebA Dataset\n",
        "[CelebA](http://mmlab.ie.cuhk.edu.hk/projects/CelebA.html) is a large-scale face attributes dataset with more than 200,000 celebrity images, each with 40 attribute annotations (such as hair type, fashion accessories, facial features, etc.) and 5 landmark locations (eyes, mouth and nose positions). CelebA is readily made available in TensorFlow thanks to [TensorFlow Datasets(`tfds`)](https://www.tensorflow.org/datasets), which is where and how this notebook will download and extract the dataset.\n",
        "\n",
        "Specifically, in this notebook:\n",
        "*   The \"Smiling\" attribute — which presumably represents a pleased, kind or amused expression in the image with the corners of the mouth turned up and front teeth possibly exposed — will be set as the target variable for the model to predict.\n",
        "*   Images will be resized from 218x178 to 28x28 to reduce the amount of execution time and memory when training.\n",
        "*   Performance will be evaluated across the \"Young\" attribute, which will be dubbed \"age group\" in this notebook.\n",
        "\n",
        "\n"
      ]
    },
    {
      "cell_type": "markdown",
      "metadata": {
        "colab_type": "text",
        "id": "i93InRhMFu89"
      },
      "source": [
        "### Possible Checksum Error\n",
        "On rare occasions, running the cell below may return a `NonMatchingChecksumError` message. As [reported elsewhere](https://github.com/tensorflow/datasets/issues/943), this error message might be due to an incomplete download. CelebA is rather large and can sometimes fail to download. So this may be a Google Drive issue rather than TFDS.\n",
        "\n",
        "In our experiences, running the cell again at a later point in time will resolve that error and allow you to download the dataset."
      ]
    },
    {
      "cell_type": "code",
      "execution_count": null,
      "metadata": {
        "colab": {},
        "colab_type": "code",
        "id": "zCSemFST0b89"
      },
      "outputs": [],
      "source": [
        "celeb_a_builder = tfds.builder(\"celeb_a\")\n",
        "celeb_a_builder.download_and_prepare()"
      ]
    },
    {
      "cell_type": "markdown",
      "metadata": {
        "colab_type": "text",
        "id": "u5PDLXZb_uIj"
      },
      "source": [
        "## Caveats\n",
        "Before moving forward, there are several considerations to keep in mind in using CelebA:\n",
        "*   Though in principle this notebook could use any dataset of face images, CelebA was chosen because it contains public domain images of public figures, which avoids certain policy and privacy issues of some other public domain datasets.\n",
        "*   All of the attribute annotations in CelebA come operationalized as binary categories. For example, the \"Young\" attribute, which loosely and presumably represents perceived behavior or appearance of young people, is denoted as either present or absent in the image. In other words, the absence of \"Young\" in an image does not always imply that the image features an \"Old\" celebrity.\n",
        "*   CelebA's categorizations do not reflect real human diversity of attributes.\n",
        "*   For the purposes of this notebook, the \"Young\" attribute is dubbed \"age group\", where the presence of the \"Young\" attribute in an image is labeled as a member of the \"young\" age group and the absence of the \"Young\" attribute is labeled as a member of the \"old\" age group. These are assumptions made as this information is not mentioned in the [original paper](http://openaccess.thecvf.com/content_iccv_2015/html/Liu_Deep_Learning_Face_ICCV_2015_paper.html).\n",
        "*   As such, performance in the models trained in this notebook is tied to the ways the attributes have been operationalized and annotated by the authors of CelebA.\n",
        "*   This model should not be used for commerical purposes as that would voilate CelebA's non-commerical research agreement."
      ]
    },
    {
      "cell_type": "markdown",
      "metadata": {
        "colab_type": "text",
        "id": "Elkiu92cY2bY"
      },
      "source": [
        "# Setting Up Input and Visualization Functions\n",
        "Now that CelebA is loaded in as a `tf.data.Dataset` object, the rest of the input pipeline can now be defined for model training. The subsequent cells will help streamline the input pipeline as well as visualize performance."
      ]
    },
    {
      "cell_type": "code",
      "execution_count": null,
      "metadata": {
        "cellView": "both",
        "colab": {},
        "colab_type": "code",
        "id": "SD-H70Je0cTp"
      },
      "outputs": [],
      "source": [
        "#@title Define Image Preprocessing and Filtering Functions\n",
        "\n",
        "ATTR_KEY = \"attributes\"\n",
        "IMAGE_KEY = \"image\"\n",
        "LABEL_KEY = \"Smiling\"\n",
        "GROUP_KEY = \"Young\"\n",
        "IMAGE_SIZE = 28\n",
        "BATCH_SIZE = 1024\n",
        "\n",
        "def preprocessing_function(feat_dict):\n",
        "  # Separate out the image and target variable from the feature dictionary.\n",
        "  image = feat_dict[IMAGE_KEY]\n",
        "  label = feat_dict[ATTR_KEY][LABEL_KEY]\n",
        "  group = feat_dict[ATTR_KEY][GROUP_KEY]\n",
        "\n",
        "  # Resize and normalize image.\n",
        "  image = tf.cast(image, tf.float32)\n",
        "  image = tf.image.resize(image, [IMAGE_SIZE, IMAGE_SIZE])\n",
        "  image /= 255.0\n",
        "\n",
        "  # Cast label and group to float32.\n",
        "  label = tf.cast(label, tf.float32)\n",
        "  group = tf.cast(group, tf.float32)\n",
        "\n",
        "  return image, label, group\n",
        "\n",
        "# These filtering fuctions will be called after the image preprocessing step to\n",
        "# evalute performance with respect to groups.\n",
        "def filter_young_group(image, label, young_group):\n",
        "  return True if tf.math.equal(young_group, 1.0) else False\n",
        "\n",
        "def filter_old_group(image, label, young_group):\n",
        "  return True if tf.math.equal(young_group, 0.0) else False"
      ]
    },
    {
      "cell_type": "code",
      "execution_count": null,
      "metadata": {
        "cellView": "both",
        "colab": {},
        "colab_type": "code",
        "id": "Geujt01xzLPR"
      },
      "outputs": [],
      "source": [
        "#@title Define False Positive Rate Calculator\n",
        "def calculate_fpr(results):\n",
        "  # results[] is a list of scalars that represent different metrics. In order,\n",
        "  # it represents the following: loss, accuracy, false positives, true negatives\n",
        "  fp = results[2]\n",
        "  tn = results[3]\n",
        "\n",
        "  fpr = float(fp / (fp + tn))\n",
        "  return fpr"
      ]
    },
    {
      "cell_type": "code",
      "execution_count": null,
      "metadata": {
        "cellView": "both",
        "colab": {},
        "colab_type": "code",
        "id": "UOD6iv078BeT"
      },
      "outputs": [],
      "source": [
        "#@title Define Input Function\n",
        "def input_function(split, subgroup_filter, batch_size=100):\n",
        "  # Use tfds.load method to build and load CelebA.\n",
        "  celeb_a_data = celeb_a_builder.as_dataset(split=split)\n",
        "\n",
        "  # Shuffle and batch dataset depending on split.\n",
        "  if split == 'train':\n",
        "    celeb_a_data = celeb_a_data.shuffle(1024).repeat().batch(batch_size)\n",
        "  elif split == 'test':\n",
        "    celeb_a_data = celeb_a_data.batch(batch_size)\n",
        "\n",
        "  # Apply preprocessing transformations.\n",
        "  celeb_a_data = celeb_a_data.map(preprocessing_function)\n",
        "\n",
        "  # When necessary, filter by age group of interest.\n",
        "  if subgroup_filter == 'Young':\n",
        "    celeb_a_data = celeb_a_data.filter(filter_young_group)\n",
        "  elif subgroup_filter == 'Old':\n",
        "    celeb_a_data = celeb_a_data.filter(filter_old_group)\n",
        "\n",
        "  # Return the transformed CelebA set.\n",
        "  return celeb_a_data"
      ]
    },
    {
      "cell_type": "code",
      "execution_count": null,
      "metadata": {
        "cellView": "both",
        "colab": {},
        "colab_type": "code",
        "id": "_vroRsWuLCf1"
      },
      "outputs": [],
      "source": [
        "#@title Define Plot Function\n",
        "def plot_results(results, title):\n",
        "  # Set appropriate context for figure aesthetics.\n",
        "  sns.set_context(\"notebook\", font_scale=1.5)\n",
        "\n",
        "  if len(results) == 2:\n",
        "    # Plot bar charts for unconstrained model performance.\n",
        "    values = [value * 100 for value in results] # Converts rate to percentage\n",
        "    group_names = ['Young', 'Old']\n",
        "\n",
        "    plt.figure(figsize=(6, 3))\n",
        "    plt.barh(group_names, values, color=[\"#377eb8\", \"#ff7f00\"])\n",
        "    plt.xlim([0, int(max(values)) + 2])\n",
        "    plt.xlabel('False Positive Rate %')\n",
        "    plt.gca().xaxis.set_major_formatter(StrMethodFormatter('{x:,.1f}'))\n",
        "    plt.title(title)\n",
        "    plt.show()\n",
        "  else:\n",
        "    # Plot bar charts for unconstrained and constrained model performance.\n",
        "    values = [value * 100 for value in results]\n",
        "    df = pd.DataFrame(dict(graph=['Unconstrained', 'Constrained'],\n",
        "                           young=values[::2], old=values[1::2]))\n",
        "    index = np.arange(len(df))\n",
        "    width = 0.4\n",
        "\n",
        "    fig, ax = plt.subplots()\n",
        "    ax.barh(index, df.young, width, color=\"#377eb8\", label='Young')\n",
        "    ax.barh(index + width, df.old, width, color=\"#ff7f00\", label='Old')\n",
        "\n",
        "    plt.xlim([0, int(max(values)) + 2])\n",
        "    plt.xlabel('False Positive Rate %')\n",
        "    ax.set(yticks=index + (width / 2), yticklabels=df.graph)\n",
        "    ax.legend()\n",
        "\n",
        "    plt.gca().xaxis.set_major_formatter(StrMethodFormatter('{x:,.1f}'))\n",
        "    plt.title(title)\n",
        "    plt.show()"
      ]
    },
    {
      "cell_type": "markdown",
      "metadata": {
        "colab_type": "text",
        "id": "NXO3woTxiCk0"
      },
      "source": [
        "# Build, Train \u0026 Evaluate Unconstrained Model\n",
        "To keep this notebook focused on TFCO, a simple, unconstrained `tf.keras.Sequential` model will be assembled.\n",
        "\n",
        "It is possible that model performance can greatly be improved upon by adding some complexity (e.g., more densely-connected layers, exploring different activiation functions, increasing image size), but that may distract from the goal of demonstrating how easy it is to apply the TFCO library when working with Keras. For that reason, the model will be kept simple — but feel encouraged to explore this space."
      ]
    },
    {
      "cell_type": "code",
      "execution_count": null,
      "metadata": {
        "colab": {},
        "colab_type": "code",
        "id": "RNZhN_zU8DRD"
      },
      "outputs": [],
      "source": [
        "NUM_CLASSES = 2\n",
        "\n",
        "# For this notebook, accuracy, false positives (FPs) and true negatives (TNs)\n",
        "# will be used to evaluate performance. With FP and TN, the false positive rate\n",
        "# can be calculated: FP / (FP + TN).\n",
        "#\n",
        "# We use tfco.KerasMetricWrapper not because we're doing anything\n",
        "# TFCO-specific here, but only because it supports the \"from_logits\" option.\n",
        "# When we use KerasMetricWrapper below, on a constrained problem, the usage will\n",
        "# be more involved, but here, the *only* thing that the KerasMetricWrappers are\n",
        "# doing is passing the predictions through a sigmoid before evaluating the\n",
        "# metrics.\n",
        "unconstrained_metrics = [\n",
        "    tfco.KerasMetricWrapper(\n",
        "        tf.keras.metrics.BinaryAccuracy(), from_logits=True, name='accuracy'),\n",
        "    tfco.KerasMetricWrapper(\n",
        "        tf.keras.metrics.FalsePositives(), from_logits=True, name='fp'),\n",
        "    tfco.KerasMetricWrapper(\n",
        "        tf.keras.metrics.TrueNegatives(), from_logits=True, name='tn')\n",
        "]\n",
        "\n",
        "# The model consists of:\n",
        "# 1. An input layer that represents the 28x28x3 image flatten.\n",
        "# 2. A fully connected layer with 64 units activated by a ReLU function.\n",
        "# 3. A single-unit readout layer to output real-scores instead of probabilities.\n",
        "unconstrained_model = keras.Sequential([\n",
        "    keras.layers.Flatten(input_shape=(IMAGE_SIZE, IMAGE_SIZE, 3)),\n",
        "    keras.layers.Dense(64, activation=tf.nn.relu),\n",
        "    keras.layers.Dense(1, activation=None)\n",
        "])\n",
        "\n",
        "# TFCO by default uses hinge loss, and that will also be used in the model.\n",
        "unconstrained_model.compile(\n",
        "    optimizer=tf.keras.optimizers.Adam(),\n",
        "    loss=tf.keras.losses.Hinge(),\n",
        "    metrics=unconstrained_metrics)"
      ]
    },
    {
      "cell_type": "markdown",
      "metadata": {
        "colab_type": "text",
        "id": "76tZ3vk-tyo9"
      },
      "source": [
        "With the model now defined and the input pipeline in place, the model is ready for training. To cut back on the amount of execution time and memory, the model will be trained by slicing the data into small batches with a small amount of repeated iterations.\n",
        "\n",
        "By the way, running this notebook in TensorFlow \u003c 2.0.0 may result in a deprecation warning for `np.where`. Safely ignore this warning as TensorFlow addresses this in 2.X by using `tf.where` in place of `np.where`."
      ]
    },
    {
      "cell_type": "code",
      "execution_count": null,
      "metadata": {
        "colab": {
          "base_uri": "https://localhost:8080/",
          "height": 374
        },
        "colab_type": "code",
        "executionInfo": {
          "elapsed": 736709,
          "status": "ok",
          "timestamp": 1598991382793,
          "user": {
            "displayName": "Andrew Cotter",
            "photoUrl": "",
            "userId": "01600804956648002768"
          },
          "user_tz": 420
        },
        "id": "3m9OOdU_8GWo",
        "outputId": "f3099506-f929-43de-93f1-f2e38eeb380c"
      },
      "outputs": [
        {
          "name": "stdout",
          "output_type": "stream",
          "text": [
            "Epoch 1/10\n",
            "1000/1000 [==============================] - 73s 73ms/step - loss: 0.3439 - accuracy: 0.8105 - fp: 8404.0000 - tn: 43603.0000\n",
            "Epoch 2/10\n",
            "1000/1000 [==============================] - 69s 69ms/step - loss: 0.2398 - accuracy: 0.8622 - fp: 6285.0000 - tn: 45677.0000\n",
            "Epoch 3/10\n",
            "1000/1000 [==============================] - 71s 71ms/step - loss: 0.2274 - accuracy: 0.8685 - fp: 6102.0000 - tn: 46103.0000\n",
            "Epoch 4/10\n",
            "1000/1000 [==============================] - 71s 71ms/step - loss: 0.2247 - accuracy: 0.8699 - fp: 6070.0000 - tn: 45876.0000\n",
            "Epoch 5/10\n",
            "1000/1000 [==============================] - 73s 73ms/step - loss: 0.2223 - accuracy: 0.8704 - fp: 5792.0000 - tn: 46208.0000\n",
            "Epoch 6/10\n",
            "1000/1000 [==============================] - 74s 74ms/step - loss: 0.2153 - accuracy: 0.8745 - fp: 5581.0000 - tn: 46513.0000\n",
            "Epoch 7/10\n",
            "1000/1000 [==============================] - 74s 74ms/step - loss: 0.2126 - accuracy: 0.8753 - fp: 5569.0000 - tn: 46379.0000\n",
            "Epoch 8/10\n",
            "1000/1000 [==============================] - 76s 76ms/step - loss: 0.2084 - accuracy: 0.8758 - fp: 5599.0000 - tn: 46498.0000\n",
            "Epoch 9/10\n",
            "1000/1000 [==============================] - 71s 71ms/step - loss: 0.2062 - accuracy: 0.8795 - fp: 5422.0000 - tn: 46582.0000\n",
            "Epoch 10/10\n",
            "1000/1000 [==============================] - 71s 71ms/step - loss: 0.2015 - accuracy: 0.8793 - fp: 5233.0000 - tn: 46757.0000\n"
          ]
        },
        {
          "data": {
            "text/plain": [
              "\u003ctensorflow.python.keras.callbacks.History at 0x7fcd252a9b00\u003e"
            ]
          },
          "execution_count": 9,
          "metadata": {
            "tags": []
          },
          "output_type": "execute_result"
        }
      ],
      "source": [
        "celeb_a_train_data = input_function(\n",
        "    tfds.Split.TRAIN, subgroup_filter='None')\n",
        "unconstrained_model.fit(celeb_a_train_data, epochs=10, steps_per_epoch=1000)"
      ]
    },
    {
      "cell_type": "markdown",
      "metadata": {
        "colab_type": "text",
        "id": "nCtBH9DkvtUy"
      },
      "source": [
        "Evaluating the model on the test data should result in a final accuracy score of around 80% to 85%. Not bad for a simple model with no fine tuning."
      ]
    },
    {
      "cell_type": "code",
      "execution_count": null,
      "metadata": {
        "colab": {
          "base_uri": "https://localhost:8080/",
          "height": 51
        },
        "colab_type": "code",
        "executionInfo": {
          "elapsed": 751832,
          "status": "ok",
          "timestamp": 1598991397925,
          "user": {
            "displayName": "Andrew Cotter",
            "photoUrl": "",
            "userId": "01600804956648002768"
          },
          "user_tz": 420
        },
        "id": "3KwQ37gV8JBc",
        "outputId": "fdeefcf7-e768-41f4-9c56-e87b55b241c9"
      },
      "outputs": [
        {
          "name": "stdout",
          "output_type": "stream",
          "text": [
            "Overall Results, Unconstrained\n",
            "200/200 [==============================] - 14s 68ms/step - loss: 0.1921 - accuracy: 0.8814 - fp: 1181.0000 - tn: 8794.0000\n"
          ]
        }
      ],
      "source": [
        "print('Overall Results, Unconstrained')\n",
        "celeb_a_test_data = input_function(\n",
        "    tfds.Split.TEST, subgroup_filter='None')\n",
        "unconstrained_results = unconstrained_model.evaluate(celeb_a_test_data)"
      ]
    },
    {
      "cell_type": "markdown",
      "metadata": {
        "colab_type": "text",
        "id": "L5jslIrzwIKo"
      },
      "source": [
        "However, performance evaluated across age group may reveal some shortcomings."
      ]
    },
    {
      "cell_type": "code",
      "execution_count": null,
      "metadata": {
        "colab": {
          "base_uri": "https://localhost:8080/",
          "height": 51
        },
        "colab_type": "code",
        "executionInfo": {
          "elapsed": 787097,
          "status": "ok",
          "timestamp": 1598991433198,
          "user": {
            "displayName": "Andrew Cotter",
            "photoUrl": "",
            "userId": "01600804956648002768"
          },
          "user_tz": 420
        },
        "id": "GgyPlVqaqCLB",
        "outputId": "818b8698-7092-42f8-b8a2-87d8d59fc7f3"
      },
      "outputs": [
        {
          "name": "stdout",
          "output_type": "stream",
          "text": [
            "Results for Young Group, Unconstrained\n",
            "15114/15114 [==============================] - 34s 2ms/step - loss: 0.2537 - accuracy: 0.8890 - fp: 781.0000 - tn: 6836.0000\n"
          ]
        }
      ],
      "source": [
        "print('Results for Young Group, Unconstrained')\n",
        "celeb_a_test_young_group_data = input_function(\n",
        "    tfds.Split.TEST, batch_size=1, subgroup_filter='Young')\n",
        "unconstrained_results_young = unconstrained_model.evaluate(celeb_a_test_young_group_data)"
      ]
    },
    {
      "cell_type": "code",
      "execution_count": null,
      "metadata": {
        "colab": {
          "base_uri": "https://localhost:8080/",
          "height": 51
        },
        "colab_type": "code",
        "executionInfo": {
          "elapsed": 811329,
          "status": "ok",
          "timestamp": 1598991457439,
          "user": {
            "displayName": "Andrew Cotter",
            "photoUrl": "",
            "userId": "01600804956648002768"
          },
          "user_tz": 420
        },
        "id": "Z4h-Qp0L_umh",
        "outputId": "6f560fab-f869-4419-9a69-daad7f4602f9"
      },
      "outputs": [
        {
          "name": "stdout",
          "output_type": "stream",
          "text": [
            "Results for Old Group, Unconstrained\n",
            "4848/4848 [==============================] - 23s 5ms/step - loss: 0.0000e+00 - accuracy: 0.8577 - fp: 400.0000 - tn: 1958.0000\n"
          ]
        }
      ],
      "source": [
        "print('Results for Old Group, Unconstrained')\n",
        "celeb_a_test_old_group_data = input_function(\n",
        "    tfds.Split.TEST, batch_size=1, subgroup_filter='Old')\n",
        "unconstrained_results_old = unconstrained_model.evaluate(celeb_a_test_old_group_data)"
      ]
    },
    {
      "cell_type": "code",
      "execution_count": null,
      "metadata": {
        "cellView": "both",
        "colab": {
          "base_uri": "https://localhost:8080/",
          "height": 263
        },
        "colab_type": "code",
        "executionInfo": {
          "elapsed": 811321,
          "status": "ok",
          "timestamp": 1598991457440,
          "user": {
            "displayName": "Andrew Cotter",
            "photoUrl": "",
            "userId": "01600804956648002768"
          },
          "user_tz": 420
        },
        "id": "WV-uQTQ5-yPc",
        "outputId": "f6e822e4-747d-4cfa-b99d-ec045d7b81d5"
      },
      "outputs": [
        {
          "data": {
            "image/png": "[encoded data removed]",
            "text/plain": [
              "\u003cFigure size 432x216 with 1 Axes\u003e"
            ]
          },
          "metadata": {
            "needs_background": "light",
            "tags": []
          },
          "output_type": "display_data"
        }
      ],
      "source": [
        "#@title Calculate FPR and Compare Unconstrained Performance\n",
        "young_fpr_unconstrained = calculate_fpr(unconstrained_results_young)\n",
        "old_fpr_unconstrained = calculate_fpr(unconstrained_results_old)\n",
        "\n",
        "title = 'Smiling Classifier Performance (Unconstrained-Only)'\n",
        "plot_results([young_fpr_unconstrained, old_fpr_unconstrained], title)"
      ]
    },
    {
      "cell_type": "markdown",
      "metadata": {
        "colab_type": "text",
        "id": "zYVpZ-DpBsfD"
      },
      "source": [
        "A false positive is where the model incorrectly predicts the positive class. In this context, that means a false positive outcome occurs when the ground truth is an image of a celebrity 'Not Smiling' and the model predicts 'Smiling'. By extension, the false positive rate, which is used in the visualization above, is a measure of accuracy for a test.\n",
        "\n",
        "Looking at performance across age group should reveal a **disproportionate gap between \"Old\" and \"Young\" categories**.\n",
        "\n",
        "This is where TFCO can come in and help close that gap by constraining the false positive rate to be within a more acceptable criterion.\n"
      ]
    },
    {
      "cell_type": "markdown",
      "metadata": {
        "colab_type": "text",
        "id": "ZNnI_Eu70gVp"
      },
      "source": [
        "# Constrained Model Set Up\n",
        "\n",
        "One of the main challenges when setting up a constrained problem in Keras is that Keras losses and metrics take only two parameters (the labels y_true, and the predictions y_pred). Often, however, the constraints depend on extra side information (in this case, the old/young protected group information).\n",
        "\n",
        "To make sure that this side information is available to TFCO (which creates a\n",
        "custom loss), we replace y_true with a *two-column* Tensor, with the first column containing the labels, and the second the protected group information. The `DatasetWrapper` iterator, which we create in the upcoming cell, performs this transformation:"
      ]
    },
    {
      "cell_type": "code",
      "execution_count": null,
      "metadata": {
        "colab": {},
        "colab_type": "code",
        "id": "0vOqlFj0VY2T"
      },
      "outputs": [],
      "source": [
        "class DatasetWrapper(object):\n",
        "  \"\"\"An iterator wrapping input_function.\n",
        "\n",
        "  Normally, input_function iterates over three quantities: the features, the\n",
        "  labels, and the protected group information. Keras normally only looks at the\n",
        "  first two, but this iterator will combine the labels and protected group\n",
        "  information into one `Tensor`, with the labels in the first column and the\n",
        "  protected group information in the second. \n",
        "  \"\"\"\n",
        "\n",
        "  def __init__(self, wrapped):\n",
        "    self._wrapped = wrapped\n",
        "    self._wrapped_iter = self._wrapped.__iter__()\n",
        "\n",
        "  def __iter__(self):\n",
        "    self._wrapped_iter = self._wrapped.__iter__()\n",
        "    return self\n",
        "\n",
        "  def __next__(self):\n",
        "    features, label, group = self._wrapped_iter.__next__()\n",
        "    combined = tf.stack([label, group], axis=1)\n",
        "    return (features, combined)"
      ]
    },
    {
      "cell_type": "markdown",
      "metadata": {
        "colab_type": "text",
        "id": "kE0HgU09Wr7M"
      },
      "source": [
        "Now that y_true contains two columns, we need to be able to *extract* the relevant information whenever needed. To this end, we create the following `tfco.KerasPlaceholders`, which tell us how to map the y_true and y_pred arguments to particular quantities of interest (the predictions, labels, and protected group information, respectively):\n"
      ]
    },
    {
      "cell_type": "code",
      "execution_count": null,
      "metadata": {
        "colab": {},
        "colab_type": "code",
        "id": "Uw6zBbA9aDCj"
      },
      "outputs": [],
      "source": [
        "# We use KerasPlaceholder objects to define how the inputs to the Keras loss\n",
        "# function (y_true and y_pred) should be mapped to inputs into TFCO. Notice in\n",
        "# particular that the labels are in the first column of y_true, and the group\n",
        "# indicators are in the second column.\n",
        "tfco_predictions = tfco.KerasPlaceholder(lambda _, y_pred: y_pred)\n",
        "tfco_labels = tfco.KerasPlaceholder(lambda y_true, _: y_true[:, 0])\n",
        "tfco_groups = tfco.KerasPlaceholder(lambda y_true, _: y_true[:, 1])\n",
        "tfco_placeholders = [tfco_predictions, tfco_labels, tfco_groups]"
      ]
    },
    {
      "cell_type": "markdown",
      "metadata": {
        "colab_type": "text",
        "id": "8ZwCsneuaJjL"
      },
      "source": [
        "\n",
        "As documented in [TFCO's library](https://github.com/google-research/tensorflow_constrained_optimization/tree/master/README.md), there are several helpers that will make it easier to constrain the problem:\n",
        "\n",
        "1.   `tfco.rate_context()` – A \"context\" tells us what we're taking a rate *of*. Here, for example, we're interested in the error rate on the full dataset, and the FPRs on the \"old\" and \"young\" protected classes, so we construct contexts representing, respectively, the full dataset, and the \"old\"\n",
        "and \"young\" protected classes.\n",
        "1.   `tfco.error_rate()` and `tfco.false_positive_rate()`. These, among many other rate helpers, are used to specify what quantity you want to minimize, and what quantities you want to constrain.\n",
        "1.   `tfco.KerasLayer()`– The rate expression to be minimized here will be the error rate, subject to FPR constraints. The `KerasLayer` is an identity function from the model's perspective, but contains TFCO state that is required for optimization (e.g. rate denominators, slack variables, and Lagrange multipliers), so it must be included somewhere in the model.\n",
        "\n",
        "The cell below will call on these helpers to set up model training with the fairness constraint."
      ]
    },
    {
      "cell_type": "code",
      "execution_count": null,
      "metadata": {
        "colab": {},
        "colab_type": "code",
        "id": "BTukzvfD6iWr"
      },
      "outputs": [],
      "source": [
        "# Create overall context and subsetted context. The subsetted contexts contain\n",
        "# examples where group attribute \u003c 0.5 and \u003e 0.5 (i.e. \"old\" and \"young\"\n",
        "# celebrity images), respectively.\n",
        "tfco_context = tfco.rate_context(\n",
        "    predictions=tfco_predictions, labels=tfco_labels)\n",
        "tfco_old_context = tfco_context.subset(lambda: tfco_groups() \u003c 0.5)\n",
        "tfco_young_context = tfco_context.subset(lambda: tfco_groups() \u003e= 0.5)\n",
        "\n",
        "# Minimize overall error rate....\n",
        "tfco_objective = tfco.error_rate(tfco_context)\n",
        "# .... such that FPR on the both groups is at most 5%.\n",
        "tfco_constraints = [\n",
        "    tfco.false_positive_rate(tfco_old_context) \u003c= 0.05,\n",
        "    tfco.false_positive_rate(tfco_young_context) \u003c= 0.05,\n",
        "]\n",
        "# Another possibility would be to constrain the \"old\" FPR to be no larger than\n",
        "# the \"young\" FPR, which could be accomplished with the constraint set:\n",
        "#   tfco_constraints = [\n",
        "#       tfco.false_positive_rate(tfco_old_context) \u003c=\n",
        "#       tfco.false_positive_rate(tfco_young_context)\n",
        "#   ]\n",
        "# If you're interested, try this version out, instead!\n",
        "\n",
        "# Setup rate minimization problem: minimize overall error rate s.t. constraints,\n",
        "# and store everything needed in \"tfco_layer\", which will be included in the\n",
        "# sequential Keras model, below.\n",
        "tfco_layer = tfco.KerasLayer(\n",
        "    objective=tfco_objective,\n",
        "    constraints=tfco_constraints,\n",
        "    placeholders=tfco_placeholders)\n",
        "\n",
        "# Unlike in the \"unconstrained\" case, the KerasMetricWrapper must now also\n",
        "# extract the labels from the y_true metric parameter, which contains two\n",
        "# columns, the labels and protected class information. To this end, we pass the\n",
        "# tfco_labels KerasPlaceholder to the metrics, so that it knows to take the\n",
        "# first column.\n",
        "constrained_metrics = [\n",
        "    tfco.KerasMetricWrapper(\n",
        "        tf.keras.metrics.BinaryAccuracy(),\n",
        "        labels=tfco_labels,\n",
        "        from_logits=True,\n",
        "        name='accuracy'),\n",
        "    tfco.KerasMetricWrapper(\n",
        "        tf.keras.metrics.FalsePositives(),\n",
        "        labels=tfco_labels,\n",
        "        from_logits=True,\n",
        "        name='fp'),\n",
        "    tfco.KerasMetricWrapper(\n",
        "        tf.keras.metrics.TrueNegatives(),\n",
        "        labels=tfco_labels,\n",
        "        from_logits=True,\n",
        "        name='tn')\n",
        "]\n",
        "\n",
        "# Notice the presence of \"tfco_layer\". This is necessary, since it is this\n",
        "# object that contains the extra state (slack variables, Lagrange multipliers,\n",
        "# etc.) used by TFCO. From the perspective of the *model*, however, this layer\n",
        "# does nothing--it's an identity function.\n",
        "constrained_model = keras.Sequential([\n",
        "    keras.layers.Flatten(input_shape=(IMAGE_SIZE, IMAGE_SIZE, 3)),\n",
        "    keras.layers.Dense(64, activation=tf.nn.relu),\n",
        "    keras.layers.Dense(1, activation=None), tfco_layer\n",
        "])\n",
        "\n",
        "constrained_model.compile(\n",
        "    optimizer=tf.keras.optimizers.Adam(),\n",
        "    loss=tfco_layer.loss,\n",
        "    metrics=constrained_metrics)"
      ]
    },
    {
      "cell_type": "markdown",
      "metadata": {
        "colab_type": "text",
        "id": "thEe8A8UYbrO"
      },
      "source": [
        "The model is now set up and ready to be trained with the false positive rate constraint across age group. Notice the use of `DatasetWrapper`, which appends the protected group information as the second column of the labels."
      ]
    },
    {
      "cell_type": "code",
      "execution_count": null,
      "metadata": {
        "colab": {
          "base_uri": "https://localhost:8080/",
          "height": 374
        },
        "colab_type": "code",
        "executionInfo": {
          "elapsed": 1514453,
          "status": "ok",
          "timestamp": 1598992160602,
          "user": {
            "displayName": "Andrew Cotter",
            "photoUrl": "",
            "userId": "01600804956648002768"
          },
          "user_tz": 420
        },
        "id": "73doG4HL6nPS",
        "outputId": "dd9d48ae-dc59-4323-eb64-5f47765b5990"
      },
      "outputs": [
        {
          "name": "stdout",
          "output_type": "stream",
          "text": [
            "Epoch 1/10\n",
            "1000/1000 [==============================] - 73s 73ms/step - loss: 0.4597 - accuracy: 0.8094 - fp: 5486.0000 - tn: 46501.0000\n",
            "Epoch 2/10\n",
            "1000/1000 [==============================] - 71s 71ms/step - loss: 0.3909 - accuracy: 0.8390 - fp: 3024.0000 - tn: 48973.0000\n",
            "Epoch 3/10\n",
            "1000/1000 [==============================] - 69s 69ms/step - loss: 0.3854 - accuracy: 0.8419 - fp: 2589.0000 - tn: 49600.0000\n",
            "Epoch 4/10\n",
            "1000/1000 [==============================] - 68s 68ms/step - loss: 0.3875 - accuracy: 0.8402 - fp: 2612.0000 - tn: 49359.0000\n",
            "Epoch 5/10\n",
            "1000/1000 [==============================] - 70s 70ms/step - loss: 0.3810 - accuracy: 0.8433 - fp: 2474.0000 - tn: 49510.0000\n",
            "Epoch 6/10\n",
            "1000/1000 [==============================] - 71s 71ms/step - loss: 0.3697 - accuracy: 0.8469 - fp: 2582.0000 - tn: 49497.0000\n",
            "Epoch 7/10\n",
            "1000/1000 [==============================] - 69s 69ms/step - loss: 0.3685 - accuracy: 0.8481 - fp: 2538.0000 - tn: 49410.0000\n",
            "Epoch 8/10\n",
            "1000/1000 [==============================] - 70s 70ms/step - loss: 0.3643 - accuracy: 0.8487 - fp: 2562.0000 - tn: 49551.0000\n",
            "Epoch 9/10\n",
            "1000/1000 [==============================] - 67s 67ms/step - loss: 0.3544 - accuracy: 0.8535 - fp: 2589.0000 - tn: 49381.0000\n",
            "Epoch 10/10\n",
            "1000/1000 [==============================] - 68s 68ms/step - loss: 0.3444 - accuracy: 0.8554 - fp: 2563.0000 - tn: 49445.0000\n"
          ]
        },
        {
          "data": {
            "text/plain": [
              "\u003ctensorflow.python.keras.callbacks.History at 0x7fcd252c3a90\u003e"
            ]
          },
          "execution_count": 17,
          "metadata": {
            "tags": []
          },
          "output_type": "execute_result"
        }
      ],
      "source": [
        "celeb_a_train_data = DatasetWrapper(input_function(\n",
        "    tfds.Split.TRAIN, subgroup_filter='None'))\n",
        "constrained_model.fit(celeb_a_train_data, epochs=10, steps_per_epoch=1000)"
      ]
    },
    {
      "cell_type": "code",
      "execution_count": null,
      "metadata": {
        "colab": {
          "base_uri": "https://localhost:8080/",
          "height": 51
        },
        "colab_type": "code",
        "executionInfo": {
          "elapsed": 1529080,
          "status": "ok",
          "timestamp": 1598992175237,
          "user": {
            "displayName": "Andrew Cotter",
            "photoUrl": "",
            "userId": "01600804956648002768"
          },
          "user_tz": 420
        },
        "id": "dg-eW-jHjmiq",
        "outputId": "ec5073ce-baf8-462f-e22d-9e10abfc483f"
      },
      "outputs": [
        {
          "name": "stdout",
          "output_type": "stream",
          "text": [
            "Overall Results, Constrained\n",
            "201/201 [==============================] - 13s 66ms/step - loss: 0.3239 - accuracy: 0.8632 - fp: 516.0000 - tn: 9507.0000\n"
          ]
        }
      ],
      "source": [
        "print('Overall Results, Constrained')\n",
        "celeb_a_test_data = DatasetWrapper(input_function(\n",
        "    tfds.Split.TEST, subgroup_filter='None'))\n",
        "constrained_results = constrained_model.evaluate(celeb_a_test_data)"
      ]
    },
    {
      "cell_type": "markdown",
      "metadata": {
        "colab_type": "text",
        "id": "hfZn5WzJafth"
      },
      "source": [
        "As one should expect, the accuracy of the constrained model is slightly worse than the unconstrained model. But what's more important is improved performance across groups."
      ]
    },
    {
      "cell_type": "code",
      "execution_count": null,
      "metadata": {
        "colab": {
          "base_uri": "https://localhost:8080/",
          "height": 51
        },
        "colab_type": "code",
        "executionInfo": {
          "elapsed": 1570992,
          "status": "ok",
          "timestamp": 1598992217158,
          "user": {
            "displayName": "Andrew Cotter",
            "photoUrl": "",
            "userId": "01600804956648002768"
          },
          "user_tz": 420
        },
        "id": "SfqORQ7368Bv",
        "outputId": "a6a34132-10b5-4fde-ee07-f801706eec8e"
      },
      "outputs": [
        {
          "name": "stdout",
          "output_type": "stream",
          "text": [
            "Results for Young Group, Constrained\n",
            "15115/15115 [==============================] - 41s 3ms/step - loss: 0.2967 - accuracy: 0.8754 - fp: 404.0000 - tn: 7213.0000\n"
          ]
        }
      ],
      "source": [
        "print('Results for Young Group, Constrained')\n",
        "celeb_a_test_young_group_data = DatasetWrapper(input_function(\n",
        "    tfds.Split.TEST, batch_size=1, subgroup_filter='Young'))\n",
        "constrained_results_young = constrained_model.evaluate(celeb_a_test_young_group_data)"
      ]
    },
    {
      "cell_type": "code",
      "execution_count": null,
      "metadata": {
        "colab": {
          "base_uri": "https://localhost:8080/",
          "height": 51
        },
        "colab_type": "code",
        "executionInfo": {
          "elapsed": 1596126,
          "status": "ok",
          "timestamp": 1598992242305,
          "user": {
            "displayName": "Andrew Cotter",
            "photoUrl": "",
            "userId": "01600804956648002768"
          },
          "user_tz": 420
        },
        "id": "v-oLGuxeBCKo",
        "outputId": "e2fbc868-af73-4825-de7c-5e310148541f"
      },
      "outputs": [
        {
          "name": "stdout",
          "output_type": "stream",
          "text": [
            "Results for Old Group, Constrained\n",
            "4849/4849 [==============================] - 24s 5ms/step - loss: 0.4073 - accuracy: 0.8261 - fp: 109.0000 - tn: 2250.0000\n"
          ]
        }
      ],
      "source": [
        "print('Results for Old Group, Constrained')\n",
        "celeb_a_test_old_group_data = DatasetWrapper(input_function(\n",
        "    tfds.Split.TEST, batch_size=1, subgroup_filter='Old'))\n",
        "constrained_results_old = constrained_model.evaluate(celeb_a_test_old_group_data)"
      ]
    },
    {
      "cell_type": "code",
      "execution_count": null,
      "metadata": {
        "cellView": "both",
        "colab": {
          "base_uri": "https://localhost:8080/",
          "height": 318
        },
        "colab_type": "code",
        "executionInfo": {
          "elapsed": 1596284,
          "status": "ok",
          "timestamp": 1598992242471,
          "user": {
            "displayName": "Andrew Cotter",
            "photoUrl": "",
            "userId": "01600804956648002768"
          },
          "user_tz": 420
        },
        "id": "emp9iRG0YIhI",
        "outputId": "9d3e79fb-358d-4bdb-f2e8-3cde3fd65736"
      },
      "outputs": [
        {
          "data": {
            "image/png": "[encoded data removed]",
            "text/plain": [
              "\u003cFigure size 432x288 with 1 Axes\u003e"
            ]
          },
          "metadata": {
            "needs_background": "light",
            "tags": []
          },
          "output_type": "display_data"
        }
      ],
      "source": [
        "#@title Calculate FPR and Compare Constrained Performance\n",
        "young_fpr_constrained = calculate_fpr(constrained_results_young)\n",
        "old_fpr_constrained = calculate_fpr(constrained_results_old)\n",
        "\n",
        "title = 'Smiling Classifier Performance (Unconstrained and Constrained)'\n",
        "fpr_results = [\n",
        "    young_fpr_unconstrained, old_fpr_unconstrained, young_fpr_constrained,\n",
        "    old_fpr_constrained\n",
        "]\n",
        "plot_results(fpr_results, title)"
      ]
    },
    {
      "cell_type": "markdown",
      "metadata": {
        "colab_type": "text",
        "id": "lrT-7EBrcBvV"
      },
      "source": [
        "TFCO's ability to express a more complex requirements as rate constraints helped this model to achieve a more desirable outcome. There is still room for improvement, but at least TFCO was able to find a model that roughly satisfies the constraints, while significantly reducing the disparity between the FPRs of the two groups.\n",
        "\n",
        "We've found that this particular training pipeline is a bit unstable: usually, if you run it, you will achieve results similar to the above, but occasionally, the constrained (or unconstrained) optimization will get stuck at a comparitively-poor local optimum. The simplest solution would be to train multiple times, and keep the best result. Another, more advanced, alternative, would be to use `tfco.find_best_candidate_index()` (or `tfco.find_best_candidate_distribution()`) helper, which can help choose the best iterate (or best distribution over iterates), out of the ones found after each epoch. Think of `tfco.find_best_candidate_index()` as an added heuristic that ranks each of the outcomes based on accuracy and fairness constraint (in this case, false positive rate across age group) separately with respect to the training data. That way, it can search for a better trade-off between overall accuracy and the fairness constraint."
      ]
    }
  ],
  "metadata": {
    "colab": {
      "collapsed_sections": [],
      "name": "CelebA fairness.ipynb"
    },
    "kernelspec": {
      "display_name": "Python 3",
      "name": "python3"
    }
  },
  "nbformat": 4,
  "nbformat_minor": 0
}
