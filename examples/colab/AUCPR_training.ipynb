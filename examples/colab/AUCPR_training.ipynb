{
  "cells": [
    {
      "cell_type": "markdown",
      "metadata": {
        "colab_type": "text",
        "id": "i4vFDhvn_Bdn"
      },
      "source": [
        "##### Copyright 2018 The TensorFlow Constrained Optimization Authors. All Rights Reserved.\n",
        "\n",
        "Licensed under the Apache License, Version 2.0 (the \"License\"); you may not use this file except in compliance with the License. You may obtain a copy of the License at\n",
        "\n",
        "\u003e http://www.apache.org/licenses/LICENSE-2.0\n",
        "\n",
        "Unless required by applicable law or agreed to in writing, software distributed under the License is distributed on an \"AS IS\" BASIS, WITHOUT WARRANTIES OR CONDITIONS OF ANY KIND, either express or implied. See the License for the specific language governing permissions and limitations under the License."
      ]
    },
    {
      "cell_type": "markdown",
      "metadata": {
        "colab_type": "text",
        "id": "RpUmH2nk_Bdo"
      },
      "source": [
        "## PR-AUC Maximization\n",
        "In this colab, we'll show how to use the TF Constrained Optimization (TFCO) library to train a model to maximize the *Area Under the Precision-Recall Curve (PR-AUC)*. We'll show how to train the model both with (i) plain TensorFlow (in eager mode), and (ii) with a custom tf.Estimator.\n",
        "\n",
        "We start by importing the relevant modules."
      ]
    },
    {
      "cell_type": "code",
      "execution_count": 0,
      "metadata": {
        "colab": {},
        "colab_type": "code",
        "id": "FoYVEXPA_Bdp"
      },
      "outputs": [],
      "source": [
        "import matplotlib.pyplot as plt\n",
        "import numpy as np\n",
        "import os\n",
        "import pandas as pd\n",
        "import shutil\n",
        "from sklearn import metrics\n",
        "from sklearn import model_selection\n",
        "import tensorflow.compat.v2 as tf"
      ]
    },
    {
      "cell_type": "code",
      "execution_count": 0,
      "metadata": {
        "colab": {},
        "colab_type": "code",
        "id": "Ea1KIDRgC4eq"
      },
      "outputs": [],
      "source": [
        "# Tensorflow constrained optimization library\n",
        "!pip install git+https://github.com/google-research/tensorflow_constrained_optimization\n",
        "import tensorflow_constrained_optimization as tfco"
      ]
    },
    {
      "cell_type": "markdown",
      "metadata": {
        "colab_type": "text",
        "id": "BLxZD5uH_Bds"
      },
      "source": [
        "## Communities and Crimes\n",
        "\n",
        "We will use the  *Communities and Crimes* dataset from the UCI Machine Learning repository for our illustration. This dataset contains various demographic and racial distribution details (aggregated from census and law enforcement data sources) about different communities in the US, along with the per capita crime rate in each commmunity. \n",
        "\n",
        "\n",
        "We begin by downloading and preprocessing the dataset."
      ]
    },
    {
      "cell_type": "code",
      "execution_count": 0,
      "metadata": {
        "colab": {},
        "colab_type": "code",
        "id": "MgoeyhS0_Bds"
      },
      "outputs": [],
      "source": [
        "# List of column names in the dataset.\n",
        "column_names = [\"state\", \"county\", \"community\", \"communityname\", \"fold\", \"population\", \"householdsize\", \"racepctblack\", \"racePctWhite\", \"racePctAsian\", \"racePctHisp\", \"agePct12t21\", \"agePct12t29\", \"agePct16t24\", \"agePct65up\", \"numbUrban\", \"pctUrban\", \"medIncome\", \"pctWWage\", \"pctWFarmSelf\", \"pctWInvInc\", \"pctWSocSec\", \"pctWPubAsst\", \"pctWRetire\", \"medFamInc\", \"perCapInc\", \"whitePerCap\", \"blackPerCap\", \"indianPerCap\", \"AsianPerCap\", \"OtherPerCap\", \"HispPerCap\", \"NumUnderPov\", \"PctPopUnderPov\", \"PctLess9thGrade\", \"PctNotHSGrad\", \"PctBSorMore\", \"PctUnemployed\", \"PctEmploy\", \"PctEmplManu\", \"PctEmplProfServ\", \"PctOccupManu\", \"PctOccupMgmtProf\", \"MalePctDivorce\", \"MalePctNevMarr\", \"FemalePctDiv\", \"TotalPctDiv\", \"PersPerFam\", \"PctFam2Par\", \"PctKids2Par\", \"PctYoungKids2Par\", \"PctTeen2Par\", \"PctWorkMomYoungKids\", \"PctWorkMom\", \"NumIlleg\", \"PctIlleg\", \"NumImmig\", \"PctImmigRecent\", \"PctImmigRec5\", \"PctImmigRec8\", \"PctImmigRec10\", \"PctRecentImmig\", \"PctRecImmig5\", \"PctRecImmig8\", \"PctRecImmig10\", \"PctSpeakEnglOnly\", \"PctNotSpeakEnglWell\", \"PctLargHouseFam\", \"PctLargHouseOccup\", \"PersPerOccupHous\", \"PersPerOwnOccHous\", \"PersPerRentOccHous\", \"PctPersOwnOccup\", \"PctPersDenseHous\", \"PctHousLess3BR\", \"MedNumBR\", \"HousVacant\", \"PctHousOccup\", \"PctHousOwnOcc\", \"PctVacantBoarded\", \"PctVacMore6Mos\", \"MedYrHousBuilt\", \"PctHousNoPhone\", \"PctWOFullPlumb\", \"OwnOccLowQuart\", \"OwnOccMedVal\", \"OwnOccHiQuart\", \"RentLowQ\", \"RentMedian\", \"RentHighQ\", \"MedRent\", \"MedRentPctHousInc\", \"MedOwnCostPctInc\", \"MedOwnCostPctIncNoMtg\", \"NumInShelters\", \"NumStreet\", \"PctForeignBorn\", \"PctBornSameState\", \"PctSameHouse85\", \"PctSameCity85\", \"PctSameState85\", \"LemasSwornFT\", \"LemasSwFTPerPop\", \"LemasSwFTFieldOps\", \"LemasSwFTFieldPerPop\", \"LemasTotalReq\", \"LemasTotReqPerPop\", \"PolicReqPerOffic\", \"PolicPerPop\", \"RacialMatchCommPol\", \"PctPolicWhite\", \"PctPolicBlack\", \"PctPolicHisp\", \"PctPolicAsian\", \"PctPolicMinor\", \"OfficAssgnDrugUnits\", \"NumKindsDrugsSeiz\", \"PolicAveOTWorked\", \"LandArea\", \"PopDens\", \"PctUsePubTrans\", \"PolicCars\", \"PolicOperBudg\", \"LemasPctPolicOnPatr\", \"LemasGangUnitDeploy\", \"LemasPctOfficDrugUn\", \"PolicBudgPerPop\", \"ViolentCrimesPerPop\"]"
      ]
    },
    {
      "cell_type": "code",
      "execution_count": 0,
      "metadata": {
        "colab": {
          "base_uri": "https://localhost:8080/",
          "height": 246
        },
        "colab_type": "code",
        "executionInfo": {
          "elapsed": 7296,
          "status": "ok",
          "timestamp": 1586286901394,
          "user": {
            "displayName": "Harikrishna Narasimhan",
            "photoUrl": "https://lh3.googleusercontent.com/a-/AOh14Gjyg52klSoxBSFMtplEnNP91q3WZE0cd4EDc2lJ=s64",
            "userId": "06672706079361346307"
          },
          "user_tz": 420
        },
        "id": "gJ_JcV-V_Bdu",
        "outputId": "156a5dd5-4d11-4c84-df79-18895c47a07a",
        "scrolled": true
      },
      "outputs": [
        {
          "data": {
            "text/html": [
              "\u003cdiv\u003e\n",
              "\u003cstyle scoped\u003e\n",
              "    .dataframe tbody tr th:only-of-type {\n",
              "        vertical-align: middle;\n",
              "    }\n",
              "\n",
              "    .dataframe tbody tr th {\n",
              "        vertical-align: top;\n",
              "    }\n",
              "\n",
              "    .dataframe thead th {\n",
              "        text-align: right;\n",
              "    }\n",
              "\u003c/style\u003e\n",
              "\u003ctable border=\"1\" class=\"dataframe\"\u003e\n",
              "  \u003cthead\u003e\n",
              "    \u003ctr style=\"text-align: right;\"\u003e\n",
              "      \u003cth\u003e\u003c/th\u003e\n",
              "      \u003cth\u003estate\u003c/th\u003e\n",
              "      \u003cth\u003ecounty\u003c/th\u003e\n",
              "      \u003cth\u003ecommunity\u003c/th\u003e\n",
              "      \u003cth\u003ecommunityname\u003c/th\u003e\n",
              "      \u003cth\u003efold\u003c/th\u003e\n",
              "      \u003cth\u003epopulation\u003c/th\u003e\n",
              "      \u003cth\u003ehouseholdsize\u003c/th\u003e\n",
              "      \u003cth\u003eracepctblack\u003c/th\u003e\n",
              "      \u003cth\u003eracePctWhite\u003c/th\u003e\n",
              "      \u003cth\u003eracePctAsian\u003c/th\u003e\n",
              "      \u003cth\u003eracePctHisp\u003c/th\u003e\n",
              "      \u003cth\u003eagePct12t21\u003c/th\u003e\n",
              "      \u003cth\u003eagePct12t29\u003c/th\u003e\n",
              "      \u003cth\u003eagePct16t24\u003c/th\u003e\n",
              "      \u003cth\u003eagePct65up\u003c/th\u003e\n",
              "      \u003cth\u003enumbUrban\u003c/th\u003e\n",
              "      \u003cth\u003epctUrban\u003c/th\u003e\n",
              "      \u003cth\u003emedIncome\u003c/th\u003e\n",
              "      \u003cth\u003epctWWage\u003c/th\u003e\n",
              "      \u003cth\u003epctWFarmSelf\u003c/th\u003e\n",
              "      \u003cth\u003epctWInvInc\u003c/th\u003e\n",
              "      \u003cth\u003epctWSocSec\u003c/th\u003e\n",
              "      \u003cth\u003epctWPubAsst\u003c/th\u003e\n",
              "      \u003cth\u003epctWRetire\u003c/th\u003e\n",
              "      \u003cth\u003emedFamInc\u003c/th\u003e\n",
              "      \u003cth\u003eperCapInc\u003c/th\u003e\n",
              "      \u003cth\u003ewhitePerCap\u003c/th\u003e\n",
              "      \u003cth\u003eblackPerCap\u003c/th\u003e\n",
              "      \u003cth\u003eindianPerCap\u003c/th\u003e\n",
              "      \u003cth\u003eAsianPerCap\u003c/th\u003e\n",
              "      \u003cth\u003eOtherPerCap\u003c/th\u003e\n",
              "      \u003cth\u003eHispPerCap\u003c/th\u003e\n",
              "      \u003cth\u003eNumUnderPov\u003c/th\u003e\n",
              "      \u003cth\u003ePctPopUnderPov\u003c/th\u003e\n",
              "      \u003cth\u003ePctLess9thGrade\u003c/th\u003e\n",
              "      \u003cth\u003ePctNotHSGrad\u003c/th\u003e\n",
              "      \u003cth\u003ePctBSorMore\u003c/th\u003e\n",
              "      \u003cth\u003ePctUnemployed\u003c/th\u003e\n",
              "      \u003cth\u003ePctEmploy\u003c/th\u003e\n",
              "      \u003cth\u003ePctEmplManu\u003c/th\u003e\n",
              "      \u003cth\u003e...\u003c/th\u003e\n",
              "      \u003cth\u003eRentMedian\u003c/th\u003e\n",
              "      \u003cth\u003eRentHighQ\u003c/th\u003e\n",
              "      \u003cth\u003eMedRent\u003c/th\u003e\n",
              "      \u003cth\u003eMedRentPctHousInc\u003c/th\u003e\n",
              "      \u003cth\u003eMedOwnCostPctInc\u003c/th\u003e\n",
              "      \u003cth\u003eMedOwnCostPctIncNoMtg\u003c/th\u003e\n",
              "      \u003cth\u003eNumInShelters\u003c/th\u003e\n",
              "      \u003cth\u003eNumStreet\u003c/th\u003e\n",
              "      \u003cth\u003ePctForeignBorn\u003c/th\u003e\n",
              "      \u003cth\u003ePctBornSameState\u003c/th\u003e\n",
              "      \u003cth\u003ePctSameHouse85\u003c/th\u003e\n",
              "      \u003cth\u003ePctSameCity85\u003c/th\u003e\n",
              "      \u003cth\u003ePctSameState85\u003c/th\u003e\n",
              "      \u003cth\u003eLemasSwornFT\u003c/th\u003e\n",
              "      \u003cth\u003eLemasSwFTPerPop\u003c/th\u003e\n",
              "      \u003cth\u003eLemasSwFTFieldOps\u003c/th\u003e\n",
              "      \u003cth\u003eLemasSwFTFieldPerPop\u003c/th\u003e\n",
              "      \u003cth\u003eLemasTotalReq\u003c/th\u003e\n",
              "      \u003cth\u003eLemasTotReqPerPop\u003c/th\u003e\n",
              "      \u003cth\u003ePolicReqPerOffic\u003c/th\u003e\n",
              "      \u003cth\u003ePolicPerPop\u003c/th\u003e\n",
              "      \u003cth\u003eRacialMatchCommPol\u003c/th\u003e\n",
              "      \u003cth\u003ePctPolicWhite\u003c/th\u003e\n",
              "      \u003cth\u003ePctPolicBlack\u003c/th\u003e\n",
              "      \u003cth\u003ePctPolicHisp\u003c/th\u003e\n",
              "      \u003cth\u003ePctPolicAsian\u003c/th\u003e\n",
              "      \u003cth\u003ePctPolicMinor\u003c/th\u003e\n",
              "      \u003cth\u003eOfficAssgnDrugUnits\u003c/th\u003e\n",
              "      \u003cth\u003eNumKindsDrugsSeiz\u003c/th\u003e\n",
              "      \u003cth\u003ePolicAveOTWorked\u003c/th\u003e\n",
              "      \u003cth\u003eLandArea\u003c/th\u003e\n",
              "      \u003cth\u003ePopDens\u003c/th\u003e\n",
              "      \u003cth\u003ePctUsePubTrans\u003c/th\u003e\n",
              "      \u003cth\u003ePolicCars\u003c/th\u003e\n",
              "      \u003cth\u003ePolicOperBudg\u003c/th\u003e\n",
              "      \u003cth\u003eLemasPctPolicOnPatr\u003c/th\u003e\n",
              "      \u003cth\u003eLemasGangUnitDeploy\u003c/th\u003e\n",
              "      \u003cth\u003eLemasPctOfficDrugUn\u003c/th\u003e\n",
              "      \u003cth\u003ePolicBudgPerPop\u003c/th\u003e\n",
              "      \u003cth\u003eViolentCrimesPerPop\u003c/th\u003e\n",
              "    \u003c/tr\u003e\n",
              "  \u003c/thead\u003e\n",
              "  \u003ctbody\u003e\n",
              "    \u003ctr\u003e\n",
              "      \u003cth\u003e0\u003c/th\u003e\n",
              "      \u003ctd\u003e8\u003c/td\u003e\n",
              "      \u003ctd\u003eNaN\u003c/td\u003e\n",
              "      \u003ctd\u003eNaN\u003c/td\u003e\n",
              "      \u003ctd\u003eLakewoodcity\u003c/td\u003e\n",
              "      \u003ctd\u003e1\u003c/td\u003e\n",
              "      \u003ctd\u003e0.19\u003c/td\u003e\n",
              "      \u003ctd\u003e0.33\u003c/td\u003e\n",
              "      \u003ctd\u003e0.02\u003c/td\u003e\n",
              "      \u003ctd\u003e0.90\u003c/td\u003e\n",
              "      \u003ctd\u003e0.12\u003c/td\u003e\n",
              "      \u003ctd\u003e0.17\u003c/td\u003e\n",
              "      \u003ctd\u003e0.34\u003c/td\u003e\n",
              "      \u003ctd\u003e0.47\u003c/td\u003e\n",
              "      \u003ctd\u003e0.29\u003c/td\u003e\n",
              "      \u003ctd\u003e0.32\u003c/td\u003e\n",
              "      \u003ctd\u003e0.20\u003c/td\u003e\n",
              "      \u003ctd\u003e1.0\u003c/td\u003e\n",
              "      \u003ctd\u003e0.37\u003c/td\u003e\n",
              "      \u003ctd\u003e0.72\u003c/td\u003e\n",
              "      \u003ctd\u003e0.34\u003c/td\u003e\n",
              "      \u003ctd\u003e0.60\u003c/td\u003e\n",
              "      \u003ctd\u003e0.29\u003c/td\u003e\n",
              "      \u003ctd\u003e0.15\u003c/td\u003e\n",
              "      \u003ctd\u003e0.43\u003c/td\u003e\n",
              "      \u003ctd\u003e0.39\u003c/td\u003e\n",
              "      \u003ctd\u003e0.40\u003c/td\u003e\n",
              "      \u003ctd\u003e0.39\u003c/td\u003e\n",
              "      \u003ctd\u003e0.32\u003c/td\u003e\n",
              "      \u003ctd\u003e0.27\u003c/td\u003e\n",
              "      \u003ctd\u003e0.27\u003c/td\u003e\n",
              "      \u003ctd\u003e0.36\u003c/td\u003e\n",
              "      \u003ctd\u003e0.41\u003c/td\u003e\n",
              "      \u003ctd\u003e0.08\u003c/td\u003e\n",
              "      \u003ctd\u003e0.19\u003c/td\u003e\n",
              "      \u003ctd\u003e0.10\u003c/td\u003e\n",
              "      \u003ctd\u003e0.18\u003c/td\u003e\n",
              "      \u003ctd\u003e0.48\u003c/td\u003e\n",
              "      \u003ctd\u003e0.27\u003c/td\u003e\n",
              "      \u003ctd\u003e0.68\u003c/td\u003e\n",
              "      \u003ctd\u003e0.23\u003c/td\u003e\n",
              "      \u003ctd\u003e...\u003c/td\u003e\n",
              "      \u003ctd\u003e0.35\u003c/td\u003e\n",
              "      \u003ctd\u003e0.38\u003c/td\u003e\n",
              "      \u003ctd\u003e0.34\u003c/td\u003e\n",
              "      \u003ctd\u003e0.38\u003c/td\u003e\n",
              "      \u003ctd\u003e0.46\u003c/td\u003e\n",
              "      \u003ctd\u003e0.25\u003c/td\u003e\n",
              "      \u003ctd\u003e0.04\u003c/td\u003e\n",
              "      \u003ctd\u003e0.0\u003c/td\u003e\n",
              "      \u003ctd\u003e0.12\u003c/td\u003e\n",
              "      \u003ctd\u003e0.42\u003c/td\u003e\n",
              "      \u003ctd\u003e0.50\u003c/td\u003e\n",
              "      \u003ctd\u003e0.51\u003c/td\u003e\n",
              "      \u003ctd\u003e0.64\u003c/td\u003e\n",
              "      \u003ctd\u003e0.03\u003c/td\u003e\n",
              "      \u003ctd\u003e0.13\u003c/td\u003e\n",
              "      \u003ctd\u003e0.96\u003c/td\u003e\n",
              "      \u003ctd\u003e0.17\u003c/td\u003e\n",
              "      \u003ctd\u003e0.06\u003c/td\u003e\n",
              "      \u003ctd\u003e0.18\u003c/td\u003e\n",
              "      \u003ctd\u003e0.44\u003c/td\u003e\n",
              "      \u003ctd\u003e0.13\u003c/td\u003e\n",
              "      \u003ctd\u003e0.94\u003c/td\u003e\n",
              "      \u003ctd\u003e0.93\u003c/td\u003e\n",
              "      \u003ctd\u003e0.03\u003c/td\u003e\n",
              "      \u003ctd\u003e0.07\u003c/td\u003e\n",
              "      \u003ctd\u003e0.1\u003c/td\u003e\n",
              "      \u003ctd\u003e0.07\u003c/td\u003e\n",
              "      \u003ctd\u003e0.02\u003c/td\u003e\n",
              "      \u003ctd\u003e0.57\u003c/td\u003e\n",
              "      \u003ctd\u003e0.29\u003c/td\u003e\n",
              "      \u003ctd\u003e0.12\u003c/td\u003e\n",
              "      \u003ctd\u003e0.26\u003c/td\u003e\n",
              "      \u003ctd\u003e0.20\u003c/td\u003e\n",
              "      \u003ctd\u003e0.06\u003c/td\u003e\n",
              "      \u003ctd\u003e0.04\u003c/td\u003e\n",
              "      \u003ctd\u003e0.9\u003c/td\u003e\n",
              "      \u003ctd\u003e0.5\u003c/td\u003e\n",
              "      \u003ctd\u003e0.32\u003c/td\u003e\n",
              "      \u003ctd\u003e0.14\u003c/td\u003e\n",
              "      \u003ctd\u003e0.20\u003c/td\u003e\n",
              "    \u003c/tr\u003e\n",
              "    \u003ctr\u003e\n",
              "      \u003cth\u003e1\u003c/th\u003e\n",
              "      \u003ctd\u003e53\u003c/td\u003e\n",
              "      \u003ctd\u003eNaN\u003c/td\u003e\n",
              "      \u003ctd\u003eNaN\u003c/td\u003e\n",
              "      \u003ctd\u003eTukwilacity\u003c/td\u003e\n",
              "      \u003ctd\u003e1\u003c/td\u003e\n",
              "      \u003ctd\u003e0.00\u003c/td\u003e\n",
              "      \u003ctd\u003e0.16\u003c/td\u003e\n",
              "      \u003ctd\u003e0.12\u003c/td\u003e\n",
              "      \u003ctd\u003e0.74\u003c/td\u003e\n",
              "      \u003ctd\u003e0.45\u003c/td\u003e\n",
              "      \u003ctd\u003e0.07\u003c/td\u003e\n",
              "      \u003ctd\u003e0.26\u003c/td\u003e\n",
              "      \u003ctd\u003e0.59\u003c/td\u003e\n",
              "      \u003ctd\u003e0.35\u003c/td\u003e\n",
              "      \u003ctd\u003e0.27\u003c/td\u003e\n",
              "      \u003ctd\u003e0.02\u003c/td\u003e\n",
              "      \u003ctd\u003e1.0\u003c/td\u003e\n",
              "      \u003ctd\u003e0.31\u003c/td\u003e\n",
              "      \u003ctd\u003e0.72\u003c/td\u003e\n",
              "      \u003ctd\u003e0.11\u003c/td\u003e\n",
              "      \u003ctd\u003e0.45\u003c/td\u003e\n",
              "      \u003ctd\u003e0.25\u003c/td\u003e\n",
              "      \u003ctd\u003e0.29\u003c/td\u003e\n",
              "      \u003ctd\u003e0.39\u003c/td\u003e\n",
              "      \u003ctd\u003e0.29\u003c/td\u003e\n",
              "      \u003ctd\u003e0.37\u003c/td\u003e\n",
              "      \u003ctd\u003e0.38\u003c/td\u003e\n",
              "      \u003ctd\u003e0.33\u003c/td\u003e\n",
              "      \u003ctd\u003e0.16\u003c/td\u003e\n",
              "      \u003ctd\u003e0.30\u003c/td\u003e\n",
              "      \u003ctd\u003e0.22\u003c/td\u003e\n",
              "      \u003ctd\u003e0.35\u003c/td\u003e\n",
              "      \u003ctd\u003e0.01\u003c/td\u003e\n",
              "      \u003ctd\u003e0.24\u003c/td\u003e\n",
              "      \u003ctd\u003e0.14\u003c/td\u003e\n",
              "      \u003ctd\u003e0.24\u003c/td\u003e\n",
              "      \u003ctd\u003e0.30\u003c/td\u003e\n",
              "      \u003ctd\u003e0.27\u003c/td\u003e\n",
              "      \u003ctd\u003e0.73\u003c/td\u003e\n",
              "      \u003ctd\u003e0.57\u003c/td\u003e\n",
              "      \u003ctd\u003e...\u003c/td\u003e\n",
              "      \u003ctd\u003e0.38\u003c/td\u003e\n",
              "      \u003ctd\u003e0.40\u003c/td\u003e\n",
              "      \u003ctd\u003e0.37\u003c/td\u003e\n",
              "      \u003ctd\u003e0.29\u003c/td\u003e\n",
              "      \u003ctd\u003e0.32\u003c/td\u003e\n",
              "      \u003ctd\u003e0.18\u003c/td\u003e\n",
              "      \u003ctd\u003e0.00\u003c/td\u003e\n",
              "      \u003ctd\u003e0.0\u003c/td\u003e\n",
              "      \u003ctd\u003e0.21\u003c/td\u003e\n",
              "      \u003ctd\u003e0.50\u003c/td\u003e\n",
              "      \u003ctd\u003e0.34\u003c/td\u003e\n",
              "      \u003ctd\u003e0.60\u003c/td\u003e\n",
              "      \u003ctd\u003e0.52\u003c/td\u003e\n",
              "      \u003ctd\u003eNaN\u003c/td\u003e\n",
              "      \u003ctd\u003eNaN\u003c/td\u003e\n",
              "      \u003ctd\u003eNaN\u003c/td\u003e\n",
              "      \u003ctd\u003eNaN\u003c/td\u003e\n",
              "      \u003ctd\u003eNaN\u003c/td\u003e\n",
              "      \u003ctd\u003eNaN\u003c/td\u003e\n",
              "      \u003ctd\u003eNaN\u003c/td\u003e\n",
              "      \u003ctd\u003eNaN\u003c/td\u003e\n",
              "      \u003ctd\u003eNaN\u003c/td\u003e\n",
              "      \u003ctd\u003eNaN\u003c/td\u003e\n",
              "      \u003ctd\u003eNaN\u003c/td\u003e\n",
              "      \u003ctd\u003eNaN\u003c/td\u003e\n",
              "      \u003ctd\u003eNaN\u003c/td\u003e\n",
              "      \u003ctd\u003eNaN\u003c/td\u003e\n",
              "      \u003ctd\u003eNaN\u003c/td\u003e\n",
              "      \u003ctd\u003eNaN\u003c/td\u003e\n",
              "      \u003ctd\u003eNaN\u003c/td\u003e\n",
              "      \u003ctd\u003e0.02\u003c/td\u003e\n",
              "      \u003ctd\u003e0.12\u003c/td\u003e\n",
              "      \u003ctd\u003e0.45\u003c/td\u003e\n",
              "      \u003ctd\u003eNaN\u003c/td\u003e\n",
              "      \u003ctd\u003eNaN\u003c/td\u003e\n",
              "      \u003ctd\u003eNaN\u003c/td\u003e\n",
              "      \u003ctd\u003eNaN\u003c/td\u003e\n",
              "      \u003ctd\u003e0.00\u003c/td\u003e\n",
              "      \u003ctd\u003eNaN\u003c/td\u003e\n",
              "      \u003ctd\u003e0.67\u003c/td\u003e\n",
              "    \u003c/tr\u003e\n",
              "    \u003ctr\u003e\n",
              "      \u003cth\u003e2\u003c/th\u003e\n",
              "      \u003ctd\u003e24\u003c/td\u003e\n",
              "      \u003ctd\u003eNaN\u003c/td\u003e\n",
              "      \u003ctd\u003eNaN\u003c/td\u003e\n",
              "      \u003ctd\u003eAberdeentown\u003c/td\u003e\n",
              "      \u003ctd\u003e1\u003c/td\u003e\n",
              "      \u003ctd\u003e0.00\u003c/td\u003e\n",
              "      \u003ctd\u003e0.42\u003c/td\u003e\n",
              "      \u003ctd\u003e0.49\u003c/td\u003e\n",
              "      \u003ctd\u003e0.56\u003c/td\u003e\n",
              "      \u003ctd\u003e0.17\u003c/td\u003e\n",
              "      \u003ctd\u003e0.04\u003c/td\u003e\n",
              "      \u003ctd\u003e0.39\u003c/td\u003e\n",
              "      \u003ctd\u003e0.47\u003c/td\u003e\n",
              "      \u003ctd\u003e0.28\u003c/td\u003e\n",
              "      \u003ctd\u003e0.32\u003c/td\u003e\n",
              "      \u003ctd\u003e0.00\u003c/td\u003e\n",
              "      \u003ctd\u003e0.0\u003c/td\u003e\n",
              "      \u003ctd\u003e0.30\u003c/td\u003e\n",
              "      \u003ctd\u003e0.58\u003c/td\u003e\n",
              "      \u003ctd\u003e0.19\u003c/td\u003e\n",
              "      \u003ctd\u003e0.39\u003c/td\u003e\n",
              "      \u003ctd\u003e0.38\u003c/td\u003e\n",
              "      \u003ctd\u003e0.40\u003c/td\u003e\n",
              "      \u003ctd\u003e0.84\u003c/td\u003e\n",
              "      \u003ctd\u003e0.28\u003c/td\u003e\n",
              "      \u003ctd\u003e0.27\u003c/td\u003e\n",
              "      \u003ctd\u003e0.29\u003c/td\u003e\n",
              "      \u003ctd\u003e0.27\u003c/td\u003e\n",
              "      \u003ctd\u003e0.07\u003c/td\u003e\n",
              "      \u003ctd\u003e0.29\u003c/td\u003e\n",
              "      \u003ctd\u003e0.28\u003c/td\u003e\n",
              "      \u003ctd\u003e0.39\u003c/td\u003e\n",
              "      \u003ctd\u003e0.01\u003c/td\u003e\n",
              "      \u003ctd\u003e0.27\u003c/td\u003e\n",
              "      \u003ctd\u003e0.27\u003c/td\u003e\n",
              "      \u003ctd\u003e0.43\u003c/td\u003e\n",
              "      \u003ctd\u003e0.19\u003c/td\u003e\n",
              "      \u003ctd\u003e0.36\u003c/td\u003e\n",
              "      \u003ctd\u003e0.58\u003c/td\u003e\n",
              "      \u003ctd\u003e0.32\u003c/td\u003e\n",
              "      \u003ctd\u003e...\u003c/td\u003e\n",
              "      \u003ctd\u003e0.29\u003c/td\u003e\n",
              "      \u003ctd\u003e0.27\u003c/td\u003e\n",
              "      \u003ctd\u003e0.31\u003c/td\u003e\n",
              "      \u003ctd\u003e0.48\u003c/td\u003e\n",
              "      \u003ctd\u003e0.39\u003c/td\u003e\n",
              "      \u003ctd\u003e0.28\u003c/td\u003e\n",
              "      \u003ctd\u003e0.00\u003c/td\u003e\n",
              "      \u003ctd\u003e0.0\u003c/td\u003e\n",
              "      \u003ctd\u003e0.14\u003c/td\u003e\n",
              "      \u003ctd\u003e0.49\u003c/td\u003e\n",
              "      \u003ctd\u003e0.54\u003c/td\u003e\n",
              "      \u003ctd\u003e0.67\u003c/td\u003e\n",
              "      \u003ctd\u003e0.56\u003c/td\u003e\n",
              "      \u003ctd\u003eNaN\u003c/td\u003e\n",
              "      \u003ctd\u003eNaN\u003c/td\u003e\n",
              "      \u003ctd\u003eNaN\u003c/td\u003e\n",
              "      \u003ctd\u003eNaN\u003c/td\u003e\n",
              "      \u003ctd\u003eNaN\u003c/td\u003e\n",
              "      \u003ctd\u003eNaN\u003c/td\u003e\n",
              "      \u003ctd\u003eNaN\u003c/td\u003e\n",
              "      \u003ctd\u003eNaN\u003c/td\u003e\n",
              "      \u003ctd\u003eNaN\u003c/td\u003e\n",
              "      \u003ctd\u003eNaN\u003c/td\u003e\n",
              "      \u003ctd\u003eNaN\u003c/td\u003e\n",
              "      \u003ctd\u003eNaN\u003c/td\u003e\n",
              "      \u003ctd\u003eNaN\u003c/td\u003e\n",
              "      \u003ctd\u003eNaN\u003c/td\u003e\n",
              "      \u003ctd\u003eNaN\u003c/td\u003e\n",
              "      \u003ctd\u003eNaN\u003c/td\u003e\n",
              "      \u003ctd\u003eNaN\u003c/td\u003e\n",
              "      \u003ctd\u003e0.01\u003c/td\u003e\n",
              "      \u003ctd\u003e0.21\u003c/td\u003e\n",
              "      \u003ctd\u003e0.02\u003c/td\u003e\n",
              "      \u003ctd\u003eNaN\u003c/td\u003e\n",
              "      \u003ctd\u003eNaN\u003c/td\u003e\n",
              "      \u003ctd\u003eNaN\u003c/td\u003e\n",
              "      \u003ctd\u003eNaN\u003c/td\u003e\n",
              "      \u003ctd\u003e0.00\u003c/td\u003e\n",
              "      \u003ctd\u003eNaN\u003c/td\u003e\n",
              "      \u003ctd\u003e0.43\u003c/td\u003e\n",
              "    \u003c/tr\u003e\n",
              "    \u003ctr\u003e\n",
              "      \u003cth\u003e3\u003c/th\u003e\n",
              "      \u003ctd\u003e34\u003c/td\u003e\n",
              "      \u003ctd\u003e5.0\u003c/td\u003e\n",
              "      \u003ctd\u003e81440.0\u003c/td\u003e\n",
              "      \u003ctd\u003eWillingborotownship\u003c/td\u003e\n",
              "      \u003ctd\u003e1\u003c/td\u003e\n",
              "      \u003ctd\u003e0.04\u003c/td\u003e\n",
              "      \u003ctd\u003e0.77\u003c/td\u003e\n",
              "      \u003ctd\u003e1.00\u003c/td\u003e\n",
              "      \u003ctd\u003e0.08\u003c/td\u003e\n",
              "      \u003ctd\u003e0.12\u003c/td\u003e\n",
              "      \u003ctd\u003e0.10\u003c/td\u003e\n",
              "      \u003ctd\u003e0.51\u003c/td\u003e\n",
              "      \u003ctd\u003e0.50\u003c/td\u003e\n",
              "      \u003ctd\u003e0.34\u003c/td\u003e\n",
              "      \u003ctd\u003e0.21\u003c/td\u003e\n",
              "      \u003ctd\u003e0.06\u003c/td\u003e\n",
              "      \u003ctd\u003e1.0\u003c/td\u003e\n",
              "      \u003ctd\u003e0.58\u003c/td\u003e\n",
              "      \u003ctd\u003e0.89\u003c/td\u003e\n",
              "      \u003ctd\u003e0.21\u003c/td\u003e\n",
              "      \u003ctd\u003e0.43\u003c/td\u003e\n",
              "      \u003ctd\u003e0.36\u003c/td\u003e\n",
              "      \u003ctd\u003e0.20\u003c/td\u003e\n",
              "      \u003ctd\u003e0.82\u003c/td\u003e\n",
              "      \u003ctd\u003e0.51\u003c/td\u003e\n",
              "      \u003ctd\u003e0.36\u003c/td\u003e\n",
              "      \u003ctd\u003e0.40\u003c/td\u003e\n",
              "      \u003ctd\u003e0.39\u003c/td\u003e\n",
              "      \u003ctd\u003e0.16\u003c/td\u003e\n",
              "      \u003ctd\u003e0.25\u003c/td\u003e\n",
              "      \u003ctd\u003e0.36\u003c/td\u003e\n",
              "      \u003ctd\u003e0.44\u003c/td\u003e\n",
              "      \u003ctd\u003e0.01\u003c/td\u003e\n",
              "      \u003ctd\u003e0.10\u003c/td\u003e\n",
              "      \u003ctd\u003e0.09\u003c/td\u003e\n",
              "      \u003ctd\u003e0.25\u003c/td\u003e\n",
              "      \u003ctd\u003e0.31\u003c/td\u003e\n",
              "      \u003ctd\u003e0.33\u003c/td\u003e\n",
              "      \u003ctd\u003e0.71\u003c/td\u003e\n",
              "      \u003ctd\u003e0.36\u003c/td\u003e\n",
              "      \u003ctd\u003e...\u003c/td\u003e\n",
              "      \u003ctd\u003e0.70\u003c/td\u003e\n",
              "      \u003ctd\u003e0.77\u003c/td\u003e\n",
              "      \u003ctd\u003e0.89\u003c/td\u003e\n",
              "      \u003ctd\u003e0.63\u003c/td\u003e\n",
              "      \u003ctd\u003e0.51\u003c/td\u003e\n",
              "      \u003ctd\u003e0.47\u003c/td\u003e\n",
              "      \u003ctd\u003e0.00\u003c/td\u003e\n",
              "      \u003ctd\u003e0.0\u003c/td\u003e\n",
              "      \u003ctd\u003e0.19\u003c/td\u003e\n",
              "      \u003ctd\u003e0.30\u003c/td\u003e\n",
              "      \u003ctd\u003e0.73\u003c/td\u003e\n",
              "      \u003ctd\u003e0.64\u003c/td\u003e\n",
              "      \u003ctd\u003e0.65\u003c/td\u003e\n",
              "      \u003ctd\u003eNaN\u003c/td\u003e\n",
              "      \u003ctd\u003eNaN\u003c/td\u003e\n",
              "      \u003ctd\u003eNaN\u003c/td\u003e\n",
              "      \u003ctd\u003eNaN\u003c/td\u003e\n",
              "      \u003ctd\u003eNaN\u003c/td\u003e\n",
              "      \u003ctd\u003eNaN\u003c/td\u003e\n",
              "      \u003ctd\u003eNaN\u003c/td\u003e\n",
              "      \u003ctd\u003eNaN\u003c/td\u003e\n",
              "      \u003ctd\u003eNaN\u003c/td\u003e\n",
              "      \u003ctd\u003eNaN\u003c/td\u003e\n",
              "      \u003ctd\u003eNaN\u003c/td\u003e\n",
              "      \u003ctd\u003eNaN\u003c/td\u003e\n",
              "      \u003ctd\u003eNaN\u003c/td\u003e\n",
              "      \u003ctd\u003eNaN\u003c/td\u003e\n",
              "      \u003ctd\u003eNaN\u003c/td\u003e\n",
              "      \u003ctd\u003eNaN\u003c/td\u003e\n",
              "      \u003ctd\u003eNaN\u003c/td\u003e\n",
              "      \u003ctd\u003e0.02\u003c/td\u003e\n",
              "      \u003ctd\u003e0.39\u003c/td\u003e\n",
              "      \u003ctd\u003e0.28\u003c/td\u003e\n",
              "      \u003ctd\u003eNaN\u003c/td\u003e\n",
              "      \u003ctd\u003eNaN\u003c/td\u003e\n",
              "      \u003ctd\u003eNaN\u003c/td\u003e\n",
              "      \u003ctd\u003eNaN\u003c/td\u003e\n",
              "      \u003ctd\u003e0.00\u003c/td\u003e\n",
              "      \u003ctd\u003eNaN\u003c/td\u003e\n",
              "      \u003ctd\u003e0.12\u003c/td\u003e\n",
              "    \u003c/tr\u003e\n",
              "    \u003ctr\u003e\n",
              "      \u003cth\u003e4\u003c/th\u003e\n",
              "      \u003ctd\u003e42\u003c/td\u003e\n",
              "      \u003ctd\u003e95.0\u003c/td\u003e\n",
              "      \u003ctd\u003e6096.0\u003c/td\u003e\n",
              "      \u003ctd\u003eBethlehemtownship\u003c/td\u003e\n",
              "      \u003ctd\u003e1\u003c/td\u003e\n",
              "      \u003ctd\u003e0.01\u003c/td\u003e\n",
              "      \u003ctd\u003e0.55\u003c/td\u003e\n",
              "      \u003ctd\u003e0.02\u003c/td\u003e\n",
              "      \u003ctd\u003e0.95\u003c/td\u003e\n",
              "      \u003ctd\u003e0.09\u003c/td\u003e\n",
              "      \u003ctd\u003e0.05\u003c/td\u003e\n",
              "      \u003ctd\u003e0.38\u003c/td\u003e\n",
              "      \u003ctd\u003e0.38\u003c/td\u003e\n",
              "      \u003ctd\u003e0.23\u003c/td\u003e\n",
              "      \u003ctd\u003e0.36\u003c/td\u003e\n",
              "      \u003ctd\u003e0.02\u003c/td\u003e\n",
              "      \u003ctd\u003e0.9\u003c/td\u003e\n",
              "      \u003ctd\u003e0.50\u003c/td\u003e\n",
              "      \u003ctd\u003e0.72\u003c/td\u003e\n",
              "      \u003ctd\u003e0.16\u003c/td\u003e\n",
              "      \u003ctd\u003e0.68\u003c/td\u003e\n",
              "      \u003ctd\u003e0.44\u003c/td\u003e\n",
              "      \u003ctd\u003e0.11\u003c/td\u003e\n",
              "      \u003ctd\u003e0.71\u003c/td\u003e\n",
              "      \u003ctd\u003e0.46\u003c/td\u003e\n",
              "      \u003ctd\u003e0.43\u003c/td\u003e\n",
              "      \u003ctd\u003e0.41\u003c/td\u003e\n",
              "      \u003ctd\u003e0.28\u003c/td\u003e\n",
              "      \u003ctd\u003e0.00\u003c/td\u003e\n",
              "      \u003ctd\u003e0.74\u003c/td\u003e\n",
              "      \u003ctd\u003e0.51\u003c/td\u003e\n",
              "      \u003ctd\u003e0.48\u003c/td\u003e\n",
              "      \u003ctd\u003e0.00\u003c/td\u003e\n",
              "      \u003ctd\u003e0.06\u003c/td\u003e\n",
              "      \u003ctd\u003e0.25\u003c/td\u003e\n",
              "      \u003ctd\u003e0.30\u003c/td\u003e\n",
              "      \u003ctd\u003e0.33\u003c/td\u003e\n",
              "      \u003ctd\u003e0.12\u003c/td\u003e\n",
              "      \u003ctd\u003e0.65\u003c/td\u003e\n",
              "      \u003ctd\u003e0.67\u003c/td\u003e\n",
              "      \u003ctd\u003e...\u003c/td\u003e\n",
              "      \u003ctd\u003e0.36\u003c/td\u003e\n",
              "      \u003ctd\u003e0.38\u003c/td\u003e\n",
              "      \u003ctd\u003e0.38\u003c/td\u003e\n",
              "      \u003ctd\u003e0.22\u003c/td\u003e\n",
              "      \u003ctd\u003e0.51\u003c/td\u003e\n",
              "      \u003ctd\u003e0.21\u003c/td\u003e\n",
              "      \u003ctd\u003e0.00\u003c/td\u003e\n",
              "      \u003ctd\u003e0.0\u003c/td\u003e\n",
              "      \u003ctd\u003e0.11\u003c/td\u003e\n",
              "      \u003ctd\u003e0.72\u003c/td\u003e\n",
              "      \u003ctd\u003e0.64\u003c/td\u003e\n",
              "      \u003ctd\u003e0.61\u003c/td\u003e\n",
              "      \u003ctd\u003e0.53\u003c/td\u003e\n",
              "      \u003ctd\u003eNaN\u003c/td\u003e\n",
              "      \u003ctd\u003eNaN\u003c/td\u003e\n",
              "      \u003ctd\u003eNaN\u003c/td\u003e\n",
              "      \u003ctd\u003eNaN\u003c/td\u003e\n",
              "      \u003ctd\u003eNaN\u003c/td\u003e\n",
              "      \u003ctd\u003eNaN\u003c/td\u003e\n",
              "      \u003ctd\u003eNaN\u003c/td\u003e\n",
              "      \u003ctd\u003eNaN\u003c/td\u003e\n",
              "      \u003ctd\u003eNaN\u003c/td\u003e\n",
              "      \u003ctd\u003eNaN\u003c/td\u003e\n",
              "      \u003ctd\u003eNaN\u003c/td\u003e\n",
              "      \u003ctd\u003eNaN\u003c/td\u003e\n",
              "      \u003ctd\u003eNaN\u003c/td\u003e\n",
              "      \u003ctd\u003eNaN\u003c/td\u003e\n",
              "      \u003ctd\u003eNaN\u003c/td\u003e\n",
              "      \u003ctd\u003eNaN\u003c/td\u003e\n",
              "      \u003ctd\u003eNaN\u003c/td\u003e\n",
              "      \u003ctd\u003e0.04\u003c/td\u003e\n",
              "      \u003ctd\u003e0.09\u003c/td\u003e\n",
              "      \u003ctd\u003e0.02\u003c/td\u003e\n",
              "      \u003ctd\u003eNaN\u003c/td\u003e\n",
              "      \u003ctd\u003eNaN\u003c/td\u003e\n",
              "      \u003ctd\u003eNaN\u003c/td\u003e\n",
              "      \u003ctd\u003eNaN\u003c/td\u003e\n",
              "      \u003ctd\u003e0.00\u003c/td\u003e\n",
              "      \u003ctd\u003eNaN\u003c/td\u003e\n",
              "      \u003ctd\u003e0.03\u003c/td\u003e\n",
              "    \u003c/tr\u003e\n",
              "  \u003c/tbody\u003e\n",
              "\u003c/table\u003e\n",
              "\u003cp\u003e5 rows × 128 columns\u003c/p\u003e\n",
              "\u003c/div\u003e"
            ],
            "text/plain": [
              "   state  county  ...  PolicBudgPerPop ViolentCrimesPerPop\n",
              "0      8     NaN  ...             0.14                0.20\n",
              "1     53     NaN  ...              NaN                0.67\n",
              "2     24     NaN  ...              NaN                0.43\n",
              "3     34     5.0  ...              NaN                0.12\n",
              "4     42    95.0  ...              NaN                0.03\n",
              "\n",
              "[5 rows x 128 columns]"
            ]
          },
          "execution_count": 4,
          "metadata": {
            "tags": []
          },
          "output_type": "execute_result"
        }
      ],
      "source": [
        "dataset_url = \"http://archive.ics.uci.edu/ml/machine-learning-databases/communities/communities.data\"\n",
        "\n",
        "# Read dataset from the UCI web repository and assign column names.\n",
        "data_df = pd.read_csv(dataset_url, sep=\",\", names=column_names,\n",
        "                      na_values=\"?\")\n",
        "data_df.head()"
      ]
    },
    {
      "cell_type": "markdown",
      "metadata": {
        "colab_type": "text",
        "id": "MWHnYDmL_Bdx"
      },
      "source": [
        "The 'ViolentCrimesPerPop' column contains the per capita crime rate for each community. We label the communities with a crime rate above the 70-th percentile as 'high crime' and the others as 'low crime'. These would serve as our binary target labels."
      ]
    },
    {
      "cell_type": "code",
      "execution_count": 0,
      "metadata": {
        "colab": {},
        "colab_type": "code",
        "id": "fJtOkt90_Bdy"
      },
      "outputs": [],
      "source": [
        "# Make sure there are no missing values in the \"ViolentCrimesPerPop\" column.\n",
        "assert(not data_df[\"ViolentCrimesPerPop\"].isna().any())\n",
        "\n",
        "# Binarize the \"ViolentCrimesPerPop\" column and obtain labels.\n",
        "crime_rate_70_percentile = data_df[\"ViolentCrimesPerPop\"].quantile(q=0.7)\n",
        "labels_df = (data_df[\"ViolentCrimesPerPop\"] \u003e= crime_rate_70_percentile)\n",
        "\n",
        "# Now that we have assigned binary labels, \n",
        "# we drop the \"ViolentCrimesPerPop\" column from the data frame.\n",
        "data_df.drop(columns=\"ViolentCrimesPerPop\", inplace=True)"
      ]
    },
    {
      "cell_type": "markdown",
      "metadata": {
        "colab_type": "text",
        "id": "n8-rQaGH_Bd2"
      },
      "source": [
        "We drop all categorical columns, and use only the numerical/boolean features."
      ]
    },
    {
      "cell_type": "code",
      "execution_count": 0,
      "metadata": {
        "colab": {},
        "colab_type": "code",
        "id": "WC12I50e_Bd3"
      },
      "outputs": [],
      "source": [
        "data_df.drop(columns=[\"state\", \"county\", \"community\", \"communityname\", \"fold\"],\n",
        "             inplace=True)"
      ]
    },
    {
      "cell_type": "markdown",
      "metadata": {
        "colab_type": "text",
        "id": "2eJcNA1B_Bd5"
      },
      "source": [
        "Some of the numerical columns contain missing values (denoted by a NaN). For each feature that has at least one value missing, we append an additional boolean \"is_missing\" feature indicating that the value was missing, and fill the missing value with 0."
      ]
    },
    {
      "cell_type": "code",
      "execution_count": 0,
      "metadata": {
        "colab": {},
        "colab_type": "code",
        "id": "8_RgukXn_Bd5"
      },
      "outputs": [],
      "source": [
        "feature_names = data_df.columns\n",
        "for feature_name in feature_names:  \n",
        "    # Which rows have missing values?\n",
        "    missing_rows = data_df[feature_name].isna()\n",
        "    if missing_rows.any():  # Check if at least one row has a missing value.\n",
        "        data_df[feature_name].fillna(0.0, inplace=True)  # Fill NaN with 0.\n",
        "        missing_rows.rename(feature_name + \"_is_missing\", inplace=True)\n",
        "        data_df = data_df.join(missing_rows)  # Append \"is_missing\" feature."
      ]
    },
    {
      "cell_type": "markdown",
      "metadata": {
        "colab_type": "text",
        "id": "S8U5yENt_Bd-"
      },
      "source": [
        "Finally, we divide the dataset randomly into two-thirds for training and one-thirds for testing."
      ]
    },
    {
      "cell_type": "code",
      "execution_count": 0,
      "metadata": {
        "colab": {},
        "colab_type": "code",
        "id": "bixDM2G0Bspg"
      },
      "outputs": [],
      "source": [
        "# Set random seed so that the results are reproducible.\n",
        "np.random.seed(123456)\n",
        "\n",
        "# Train and test indices.\n",
        "train_indices, test_indices = model_selection.train_test_split(\n",
        "    np.arange(data_df.shape[0]), test_size=1./3.)\n",
        "\n",
        "# Train and test data.\n",
        "x_train_df = data_df.loc[train_indices].astype(np.float32)\n",
        "y_train_df = labels_df.loc[train_indices].astype(np.float32)\n",
        "x_test_df = data_df.loc[test_indices].astype(np.float32)\n",
        "y_test_df = labels_df.loc[test_indices].astype(np.float32)\n",
        "\n",
        "# Convert data frames to NumPy arrays.\n",
        "x_train = x_train_df.values\n",
        "y_train = y_train_df.values\n",
        "x_test = x_test_df.values\n",
        "y_test = y_test_df.values"
      ]
    },
    {
      "cell_type": "markdown",
      "metadata": {
        "colab_type": "text",
        "id": "gXyyoSrG_BeA"
      },
      "source": [
        "## (i) PR-AUC Training with Plain TF"
      ]
    },
    {
      "cell_type": "code",
      "execution_count": 0,
      "metadata": {
        "colab": {},
        "colab_type": "code",
        "id": "hoqCCpf0oTIY"
      },
      "outputs": [],
      "source": [
        "batch_size = 128  # first fix the batch size for mini-batch training"
      ]
    },
    {
      "cell_type": "markdown",
      "metadata": {
        "colab_type": "text",
        "id": "wqo2mpRi_BeA"
      },
      "source": [
        "\n",
        "We will work with a linear classification model and define the data and model tensors. \n"
      ]
    },
    {
      "cell_type": "code",
      "execution_count": 0,
      "metadata": {
        "colab": {},
        "colab_type": "code",
        "id": "i1fxMQmy_BeB"
      },
      "outputs": [],
      "source": [
        "# Create linear Keras model.\n",
        "layers = []\n",
        "layers.append(tf.keras.Input(shape=(x_train.shape[-1],)))\n",
        "layers.append(tf.keras.layers.Dense(1))\n",
        "model = tf.keras.Sequential(layers)\n",
        "\n",
        "# Create nullary functions that return labels and logits from the current\n",
        "# batch. In eager mode, TFCO requires these to be provided via nullary function.\n",
        "# We will maintain a running array of batch indices.\n",
        "batch_indices = np.arange(batch_size)\n",
        "labels_fn = lambda: tf.constant(y_train[batch_indices], dtype=tf.float32)\n",
        "logits_fn = lambda: model(x_train[batch_indices, :])"
      ]
    },
    {
      "cell_type": "markdown",
      "metadata": {
        "colab_type": "text",
        "id": "gmFBVhsQ_BeD"
      },
      "source": [
        "We next set up the constraint optimization problem to optimize PR-AUC.\n"
      ]
    },
    {
      "cell_type": "code",
      "execution_count": 0,
      "metadata": {
        "colab": {},
        "colab_type": "code",
        "id": "8Swn_y0T_BeD"
      },
      "outputs": [],
      "source": [
        "# Create context with labels and predictions.\n",
        "context = tfco.rate_context(logits_fn, labels_fn)\n",
        "\n",
        "# Create optimization problem with PR-AUC as the objective. The library\n",
        "# expects a minimization objective, so we negate the PR-AUC. \n",
        "\n",
        "# We use the pr_auc rate helper which uses a Riemann approximation to the area \n",
        "# under the precision-recall curve (recall on the horizontal axis, precision on \n",
        "# the vertical axis). We would need to specify the the number of bins \n",
        "# (\"rectangles\") to use for the Riemann approximation. We also can optionally\n",
        "# specify the surrogate to be used to approximate the PR-AUC.\n",
        "pr_auc_rate = tfco.pr_auc(\n",
        "    context, bins=10, penalty_loss=tfco.SoftmaxCrossEntropyLoss())\n",
        "problem = tfco.RateMinimizationProblem(-pr_auc_rate)"
      ]
    },
    {
      "cell_type": "markdown",
      "metadata": {
        "colab_type": "text",
        "id": "OwpTHgqg_BeG"
      },
      "source": [
        "We then create a loss function from the `problem` and optimize it to train the model."
      ]
    },
    {
      "cell_type": "code",
      "execution_count": 0,
      "metadata": {
        "colab": {},
        "colab_type": "code",
        "id": "nkq2aVIn_BeG"
      },
      "outputs": [],
      "source": [
        "# Create Lagrangian loss for `problem`. What we get back is a loss function, a \n",
        "# a nullary function that returns a list of update_ops that need to be run \n",
        "# before every gradient update, and the Lagrange multiplier variables internally\n",
        "# maintained by the loss function. The argument `dual_scale` is a \n",
        "# hyper-parameter that specifies the relative importance placed on updates on \n",
        "# the Lagrange multipliers.\n",
        "loss_fn, update_ops_fn, multipliers = tfco.create_lagrangian_loss(\n",
        "    problem, dual_scale=1.0)\n",
        "\n",
        "# Set up optimizer and the list of variables to optimize.\n",
        "optimizer = tf.keras.optimizers.Adagrad(learning_rate=0.1)\n",
        "var_list = (model.trainable_weights + problem.trainable_variables + \n",
        "            [multipliers])"
      ]
    },
    {
      "cell_type": "markdown",
      "metadata": {
        "colab_type": "text",
        "id": "Ra-Cog9C_BeI"
      },
      "source": [
        "Before proceeding to solving the training problem, we write an evaluation function."
      ]
    },
    {
      "cell_type": "code",
      "execution_count": 0,
      "metadata": {
        "colab": {},
        "colab_type": "code",
        "id": "gFUyqbVx_BeI"
      },
      "outputs": [],
      "source": [
        "def pr_auc(model, features, labels):\n",
        "    # Returns the PR-AUC for given model, features and binary labels.\n",
        "    scores = model.predict(features)\n",
        "    return metrics.average_precision_score(labels, scores)"
      ]
    },
    {
      "cell_type": "markdown",
      "metadata": {
        "colab_type": "text",
        "id": "MID6ChJn_BeK"
      },
      "source": [
        "We are now ready to train our model. "
      ]
    },
    {
      "cell_type": "code",
      "execution_count": 0,
      "metadata": {
        "colab": {
          "base_uri": "https://localhost:8080/",
          "height": 261
        },
        "colab_type": "code",
        "executionInfo": {
          "elapsed": 32408,
          "status": "ok",
          "timestamp": 1586287165652,
          "user": {
            "displayName": "Harikrishna Narasimhan",
            "photoUrl": "https://lh3.googleusercontent.com/a-/AOh14Gjyg52klSoxBSFMtplEnNP91q3WZE0cd4EDc2lJ=s64",
            "userId": "06672706079361346307"
          },
          "user_tz": 420
        },
        "id": "ZWUWtSp8NzK5",
        "outputId": "34f92500-35c7-408f-d4dc-9c845d9d23c6"
      },
      "outputs": [
        {
          "data": {
            "image/png": "[encoded data removed]",
            "text/plain": [
              "\u003cFigure size 504x252 with 2 Axes\u003e"
            ]
          },
          "metadata": {
            "tags": []
          },
          "output_type": "display_data"
        }
      ],
      "source": [
        "num_steps = 250\n",
        "num_examples = x_train.shape[0]\n",
        "\n",
        "train_objectives = []\n",
        "test_objectives = []\n",
        "\n",
        "for ii in range(num_steps):\n",
        "  # Indices for current batch; cycle back once we reach the end of stream.\n",
        "  batch_indices = np.arange(ii * batch_size, (ii + 1) * batch_size)\n",
        "  batch_indices = [ind % num_examples for ind in batch_indices]\n",
        "\n",
        "  # First run update ops, and then gradient update.\n",
        "  update_ops_fn()\n",
        "  optimizer.minimize(loss_fn, var_list=var_list)\n",
        "\n",
        "  # Record train and test objectives once every 10 steps.\n",
        "  if ii % 10 == 0:\n",
        "    train_objectives.append(pr_auc(model, x_train, y_train))\n",
        "    test_objectives.append(pr_auc(model, x_test, y_test))\n",
        "\n",
        "# Plot training and test objective as a function of steps.\n",
        "fig, ax = plt.subplots(1, 2, figsize=(7, 3.5))\n",
        "ax[0].plot(np.arange(1, num_steps + 1, 10), train_objectives)\n",
        "ax[0].set_title('Train PR-AUC')\n",
        "ax[0].set_xlabel('Steps')\n",
        "ax[1].plot(np.arange(1, num_steps + 1, 10), test_objectives)\n",
        "ax[1].set_title('Test PR-AUC')\n",
        "ax[1].set_xlabel('Steps')\n",
        "fig.tight_layout()"
      ]
    },
    {
      "cell_type": "markdown",
      "metadata": {
        "colab_type": "text",
        "id": "BTGOcqe0pO5a"
      },
      "source": [
        "# (ii) PR-AUC Training with Custom Estimators"
      ]
    },
    {
      "cell_type": "markdown",
      "metadata": {
        "colab_type": "text",
        "id": "uppYKix2-SdA"
      },
      "source": [
        "We next show how one can use TFCO to optimize PR-AUC using custom tf.Estimators.\n",
        "\n",
        "We first create `feature_columns` to convert the dataset into a format that can be processed by an estimator."
      ]
    },
    {
      "cell_type": "code",
      "execution_count": 0,
      "metadata": {
        "colab": {},
        "colab_type": "code",
        "id": "_klY8Dqueag_"
      },
      "outputs": [],
      "source": [
        "feature_columns = []\n",
        "for feature_name in x_train_df.columns:\n",
        "  feature_columns.append(\n",
        "      tf.feature_column.numeric_column(feature_name, dtype=tf.float32))"
      ]
    },
    {
      "cell_type": "markdown",
      "metadata": {
        "colab_type": "text",
        "id": "jyaRvuOXAGt-"
      },
      "source": [
        "We next construct the input functions that return the data to be used by the estimator for training/evaluation."
      ]
    },
    {
      "cell_type": "code",
      "execution_count": 0,
      "metadata": {
        "colab": {},
        "colab_type": "code",
        "id": "HoEGUpg9pTdD"
      },
      "outputs": [],
      "source": [
        "def make_input_fn(\n",
        "    data_df, label_df, num_epochs=10, shuffle=True, batch_size=32):\n",
        "  def input_fn():\n",
        "    ds = tf.data.Dataset.from_tensor_slices((dict(data_df), label_df))\n",
        "    if shuffle:\n",
        "      ds = ds.shuffle(1000)\n",
        "    ds = ds.batch(batch_size).repeat(num_epochs)\n",
        "    return ds\n",
        "  return input_fn\n",
        "\n",
        "train_input_fn = make_input_fn(x_train_df, y_train_df, num_epochs=25)\n",
        "test_input_fn = make_input_fn(x_test_df, y_test_df, num_epochs=1, shuffle=False)"
      ]
    },
    {
      "cell_type": "markdown",
      "metadata": {
        "colab_type": "text",
        "id": "QSw7IHgKA5NC"
      },
      "source": [
        "We then write the model function that is used by the estimator to create the model, loss, optimizers and metrics."
      ]
    },
    {
      "cell_type": "code",
      "execution_count": 0,
      "metadata": {
        "colab": {},
        "colab_type": "code",
        "id": "fUD8PAddptO7"
      },
      "outputs": [],
      "source": [
        "def make_model_fn(feature_columns):\n",
        "  # Returns model_fn.\n",
        "\n",
        "  def model_fn(features, labels, mode):\n",
        "    # Create model from features.\n",
        "    layers = []\n",
        "    layers.append(tf.keras.layers.DenseFeatures(feature_columns))\n",
        "    layers.append(tf.keras.layers.Dense(1))\n",
        "    model = tf.keras.Sequential(layers)\n",
        "    logits = model(features)\n",
        "\n",
        "    # Baseline cross-entropy loss.\n",
        "    baseline_loss_fn = tf.keras.losses.BinaryCrossentropy(from_logits=True)\n",
        "    baseline_loss = baseline_loss_fn(labels, logits)\n",
        "\n",
        "    # As a slight variant from the above previous training, we will optimize a \n",
        "    # weighted combination of PR-AUC and the baseline loss.\n",
        "    baseline_coef = 0.2\n",
        "    \n",
        "    train_op = None\n",
        "    if mode == tf.estimator.ModeKeys.TRAIN:\n",
        "      # Set up PR-AUC optimization problem.\n",
        "      # Create context with labels and predictions.\n",
        "      context = tfco.rate_context(logits, labels)\n",
        "\n",
        "      # Create optimization problem with PR-AUC as the objective. The library\n",
        "      # expects a minimization objective, so we negate the PR-AUC. We optimize\n",
        "      # a convex combination of (negative) PR-AUC and the baseline loss (wrapped\n",
        "      # in a rate object).\n",
        "      pr_auc_rate = tfco.pr_auc(\n",
        "          context, bins=10, penalty_loss=tfco.SoftmaxCrossEntropyLoss())\n",
        "      problem = tfco.RateMinimizationProblem(\n",
        "          (1 - baseline_coef) * (-pr_auc_rate) + \n",
        "          baseline_coef * tfco.wrap_rate(baseline_loss))\n",
        "\n",
        "      # Create Lagrangian loss for `problem`. What we get back is a loss \n",
        "      # function, a nullary function that returns a list of update_ops that \n",
        "      # need to be run before every gradient update, and the Lagrange \n",
        "      # multipliers maintained internally by the loss.\n",
        "      # The argument `dual_scale` is a hyper-parameter that specifies the  \n",
        "      # relative importance placed on updates on the Lagrange multipliers.\n",
        "      loss_fn, update_ops_fn, multipliers = tfco.create_lagrangian_loss(\n",
        "          problem, dual_scale=1.0)\n",
        "      \n",
        "      # Set up optimizer and the list of variables to optimize the loss.\n",
        "      optimizer = tf.keras.optimizers.Adagrad(learning_rate=0.1)\n",
        "      optimizer.iterations = tf.compat.v1.train.get_or_create_global_step()\n",
        "      \n",
        "      # Get minimize op and group with update_ops.\n",
        "      var_list = (\n",
        "          model.trainable_weights + problem.trainable_variables + [multipliers])\n",
        "      minimize_op = optimizer.get_updates(loss_fn(), var_list)\n",
        "      update_ops = update_ops_fn()\n",
        "      train_op = tf.group(*update_ops, minimize_op)\n",
        "\n",
        "    # Evaluate PR-AUC.\n",
        "    pr_auc_metric = tf.keras.metrics.AUC(curve='PR')\n",
        "    pr_auc_metric.update_state(labels, tf.sigmoid(logits))\n",
        "\n",
        "    # We do not use the Lagrangian loss for evaluation/bookkeeping\n",
        "    # purposes as it depends on some internal variables that may not be\n",
        "    # set properly during evaluation time. We instead pass loss=baseline_loss.\n",
        "    return tf.estimator.EstimatorSpec(\n",
        "        mode=mode, \n",
        "        predictions=logits, \n",
        "        loss=baseline_loss,\n",
        "        train_op=train_op,\n",
        "        eval_metric_ops={'PR-AUC': pr_auc_metric})\n",
        "    \n",
        "  return model_fn"
      ]
    },
    {
      "cell_type": "markdown",
      "metadata": {
        "colab_type": "text",
        "id": "4kc3_ftIBC6Y"
      },
      "source": [
        "We are now ready to train the estimator."
      ]
    },
    {
      "cell_type": "code",
      "execution_count": 0,
      "metadata": {
        "colab": {
          "base_uri": "https://localhost:8080/",
          "height": 676
        },
        "colab_type": "code",
        "executionInfo": {
          "elapsed": 50255,
          "status": "ok",
          "timestamp": 1586286944455,
          "user": {
            "displayName": "Harikrishna Narasimhan",
            "photoUrl": "https://lh3.googleusercontent.com/a-/AOh14Gjyg52klSoxBSFMtplEnNP91q3WZE0cd4EDc2lJ=s64",
            "userId": "06672706079361346307"
          },
          "user_tz": 420
        },
        "id": "TImVz7WMp-Nb",
        "outputId": "c0821891-d991-4a6c-f0f2-37f5a680c74a"
      },
      "outputs": [
        {
          "name": "stdout",
          "output_type": "stream",
          "text": [
            "INFO:tensorflow:Using default config.\n",
            "INFO:tensorflow:Using config: {'_model_dir': 'tmp/tfco_206861', '_tf_random_seed': None, '_save_summary_steps': 100, '_save_checkpoints_steps': None, '_save_checkpoints_secs': 600, '_session_config': allow_soft_placement: true\n",
            "graph_options {\n",
            "  rewrite_options {\n",
            "    meta_optimizer_iterations: ONE\n",
            "  }\n",
            "}\n",
            ", '_keep_checkpoint_max': 5, '_keep_checkpoint_every_n_hours': 10000, '_log_step_count_steps': 100, '_train_distribute': None, '_device_fn': None, '_protocol': None, '_eval_distribute': None, '_experimental_distribute': None, '_experimental_max_worker_delay_secs': None, '_session_creation_timeout_secs': 7200, '_service': None, '_cluster_spec': ClusterSpec({}), '_task_type': 'worker', '_task_id': 0, '_global_id_in_cluster': 0, '_master': '', '_evaluation_master': '', '_is_chief': True, '_num_ps_replicas': 0, '_num_worker_replicas': 1}\n",
            "WARNING:tensorflow:From /usr/local/lib/python3.6/dist-packages/tensorflow/python/ops/resource_variable_ops.py:1666: calling BaseResourceVariable.__init__ (from tensorflow.python.ops.resource_variable_ops) with constraint is deprecated and will be removed in a future version.\n",
            "Instructions for updating:\n",
            "If using Keras pass *_constraint arguments to layers.\n",
            "WARNING:tensorflow:From /usr/local/lib/python3.6/dist-packages/tensorflow/python/training/training_util.py:236: Variable.initialized_value (from tensorflow.python.ops.variables) is deprecated and will be removed in a future version.\n",
            "Instructions for updating:\n",
            "Use Variable.read_value. Variables in 2.X are initialized automatically both in eager and graph (inside tf.defun) contexts.\n",
            "INFO:tensorflow:Calling model_fn.\n",
            "WARNING:tensorflow:From /usr/local/lib/python3.6/dist-packages/tensorflow/python/keras/optimizer_v2/adagrad.py:106: calling Constant.__init__ (from tensorflow.python.ops.init_ops) with dtype is deprecated and will be removed in a future version.\n",
            "Instructions for updating:\n",
            "Call initializer instance with the dtype argument instead of passing it to the constructor\n",
            "INFO:tensorflow:Done calling model_fn.\n",
            "INFO:tensorflow:Create CheckpointSaverHook.\n",
            "INFO:tensorflow:Graph was finalized.\n",
            "INFO:tensorflow:Running local_init_op.\n",
            "INFO:tensorflow:Done running local_init_op.\n",
            "INFO:tensorflow:Calling checkpoint listeners before saving checkpoint 0...\n",
            "INFO:tensorflow:Saving checkpoints for 0 into tmp/tfco_206861/model.ckpt.\n",
            "INFO:tensorflow:Calling checkpoint listeners after saving checkpoint 0...\n",
            "INFO:tensorflow:loss = 0.89675474, step = 0\n",
            "INFO:tensorflow:global_step/sec: 57.4359\n",
            "INFO:tensorflow:loss = 0.34256405, step = 100 (1.743 sec)\n",
            "INFO:tensorflow:global_step/sec: 208.997\n",
            "INFO:tensorflow:loss = 0.3015527, step = 200 (0.478 sec)\n",
            "INFO:tensorflow:Calling checkpoint listeners before saving checkpoint 250...\n",
            "INFO:tensorflow:Saving checkpoints for 250 into tmp/tfco_206861/model.ckpt.\n",
            "INFO:tensorflow:Calling checkpoint listeners after saving checkpoint 250...\n",
            "INFO:tensorflow:Loss for final step: 0.45285583.\n"
          ]
        },
        {
          "data": {
            "text/plain": [
              "\u003ctensorflow_estimator.python.estimator.estimator.EstimatorV2 at 0x7f7d90e67b70\u003e"
            ]
          },
          "execution_count": 18,
          "metadata": {
            "tags": []
          },
          "output_type": "execute_result"
        }
      ],
      "source": [
        "# Create a temporary model directory.\n",
        "model_dir = \"tfco_tmp\"\n",
        "if os.path.exists(model_dir):\n",
        "  shutil.rmtree(model_dir)\n",
        "\n",
        "# Train estimator.\n",
        "estimator_lin = tf.estimator.Estimator(\n",
        "    make_model_fn(feature_columns), model_dir=model_dir)\n",
        "estimator_lin.train(train_input_fn, steps=250) "
      ]
    },
    {
      "cell_type": "markdown",
      "metadata": {
        "colab_type": "text",
        "id": "iYkWYCgvBGJA"
      },
      "source": [
        "Finally, we evaluate the trained model on the test set."
      ]
    },
    {
      "cell_type": "code",
      "execution_count": 0,
      "metadata": {
        "colab": {
          "base_uri": "https://localhost:8080/",
          "height": 230
        },
        "colab_type": "code",
        "executionInfo": {
          "elapsed": 51788,
          "status": "ok",
          "timestamp": 1586286945996,
          "user": {
            "displayName": "Harikrishna Narasimhan",
            "photoUrl": "https://lh3.googleusercontent.com/a-/AOh14Gjyg52klSoxBSFMtplEnNP91q3WZE0cd4EDc2lJ=s64",
            "userId": "06672706079361346307"
          },
          "user_tz": 420
        },
        "id": "iiB6oG2fqC7S",
        "outputId": "37e10329-8954-4a8c-d26b-cf24a3349a7f"
      },
      "outputs": [
        {
          "name": "stdout",
          "output_type": "stream",
          "text": [
            "INFO:tensorflow:Calling model_fn.\n",
            "INFO:tensorflow:Done calling model_fn.\n",
            "INFO:tensorflow:Starting evaluation at 2020-04-07T19:15:44Z\n",
            "INFO:tensorflow:Graph was finalized.\n",
            "INFO:tensorflow:Restoring parameters from tmp/tfco_206861/model.ckpt-250\n",
            "INFO:tensorflow:Running local_init_op.\n",
            "INFO:tensorflow:Done running local_init_op.\n",
            "INFO:tensorflow:Inference Time : 0.57194s\n",
            "INFO:tensorflow:Finished evaluation at 2020-04-07-19:15:45\n",
            "INFO:tensorflow:Saving dict for global step 250: AUCPR = 0.7830894, global_step = 250, loss = 0.38406006\n",
            "INFO:tensorflow:Saving 'checkpoint_path' summary for global step 250: tmp/tfco_206861/model.ckpt-250\n"
          ]
        },
        {
          "data": {
            "text/plain": [
              "{'AUCPR': 0.7830894, 'global_step': 250, 'loss': 0.38406006}"
            ]
          },
          "execution_count": 19,
          "metadata": {
            "tags": []
          },
          "output_type": "execute_result"
        }
      ],
      "source": [
        "estimator_lin.evaluate(test_input_fn)"
      ]
    },
    {
      "cell_type": "markdown",
      "metadata": {
        "colab_type": "text",
        "id": "6xU1eK4GVKd_"
      },
      "source": [
        "## Closing Remarks"
      ]
    },
    {
      "cell_type": "markdown",
      "metadata": {
        "colab_type": "text",
        "id": "zjzlHyFnC7d3"
      },
      "source": [
        "Before closing, we point out that there are three main hyper-paramters you may want to tune to improve the PR-AUC training:\n",
        "\n",
        "- `learning_rate`\n",
        "- `dual_scale`\n",
        "- `baseline_coeff`\n",
        "\n",
        "You may also be interested in exploring helpers for other similar metrics that TFCO allows you to optimize:\n",
        "- `tfco.precision_at_recall`\n",
        "- `tfco.recall_at_precision`\n",
        "- `tfco.inverse_precision_at_recall`"
      ]
    }
  ],
  "metadata": {
    "colab": {
      "collapsed_sections": [],
      "name": "PRAUC_training",
      "provenance": [
        {
          "file_id": "/elided/AUCPR_training.ipynb",
          "timestamp": 1586307455441
        },
        {
          "file_id": "1QKG7HGaLhHoH0GFUYijW9PSN9Jxj3U07",
          "timestamp": 1586307357640
        },
        {
          "file_id": "1WRsmiztxL331MBAveKmv2YW5XELdSZUl",
          "timestamp": 1586202001485
        }
      ]
    },
    "kernelspec": {
      "display_name": "Python 3",
      "language": "python",
      "name": "python3"
    },
    "language_info": {
      "codemirror_mode": {
        "name": "ipython",
        "version": 3
      },
      "file_extension": ".py",
      "mimetype": "text/x-python",
      "name": "python",
      "nbconvert_exporter": "python",
      "pygments_lexer": "ipython3",
      "version": "3.5.4rc1"
    }
  },
  "nbformat": 4,
  "nbformat_minor": 0
}
